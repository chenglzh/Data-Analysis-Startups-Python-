{
 "cells": [
  {
   "cell_type": "markdown",
   "id": "rDmby0noKhRm",
   "metadata": {
    "id": "rDmby0noKhRm"
   },
   "source": [
    "## Predictive Model\n",
    "For the final predictive models of the data set, we use the ‘processed_dataset.csv’ created in the descriptive analysis section. This dataset would contain the pre-cleaned data for missing values in order to avoid repeating the same code. To make sure the predictive models work, the data has to be pre-processed further.\n"
   ]
  },
  {
   "cell_type": "markdown",
   "id": "22f84095",
   "metadata": {
    "id": "22f84095"
   },
   "source": [
    "### Import libraries"
   ]
  },
  {
   "cell_type": "markdown",
   "id": "212260f2",
   "metadata": {},
   "source": [
    "NOTE: To run all the libraries correctly, it is assumed that the XGBoost package has been installed into the anaconda environment beforehand.\n",
    "\n",
    "Python:\n",
    "pip install xgboost\n",
    "\n",
    "Anaconda:\n",
    "conda install -c conda-forge py-xgboost"
   ]
  },
  {
   "cell_type": "code",
   "execution_count": 1,
   "id": "ab45c55e",
   "metadata": {
    "id": "ab45c55e"
   },
   "outputs": [],
   "source": [
    "#Import required packages\n",
    "import numpy as np\n",
    "import pandas as pd\n",
    "import xgboost as xgb\n",
    "import matplotlib.pyplot as plt\n",
    "%matplotlib inline\n",
    "import seaborn as sns; sns.set()\n",
    "import datetime"
   ]
  },
  {
   "cell_type": "code",
   "execution_count": 2,
   "id": "e79b4ef4",
   "metadata": {
    "id": "e79b4ef4"
   },
   "outputs": [],
   "source": [
    "#Import the models/tools for analysis\n",
    "from sklearn.metrics import mean_squared_error, mean_absolute_error, r2_score\n",
    "from sklearn.model_selection import cross_val_score\n",
    "from sklearn.model_selection import train_test_split\n",
    "from sklearn.model_selection import GridSearchCV\n",
    "from sklearn.ensemble import RandomForestRegressor\n",
    "from sklearn.ensemble import GradientBoostingRegressor\n",
    "from sklearn.linear_model import LinearRegression\n",
    "from sklearn.tree import DecisionTreeRegressor"
   ]
  },
  {
   "cell_type": "markdown",
   "id": "46f22457",
   "metadata": {
    "id": "46f22457"
   },
   "source": [
    "### Data preprocessing: feature engineering & selection"
   ]
  },
  {
   "cell_type": "markdown",
   "id": "Y717vdfLKzq9",
   "metadata": {
    "id": "Y717vdfLKzq9"
   },
   "source": [
    "First of all, since machine learning algorithms do not support dates/time, all of the dates have to be converted into integers. For this reason, every date is converted into years instead since the days/months do not prove to be significant for our analysis and predictive model. Afterwards, we split up the ‘category_list’ column into separate rows, so each category is assigned their own values for the predictive modeling and the model can compute it. The dataset contains a lot of columns which have non-numerical values and cannot be used in the regression analysis, which is why One-hot encoding is performed for the conversion of categorical data into numerical data. At the end, several columns were dropped from the training/testing data set since they do not play any significant role in the performance of the predictive model (‘permalink’, ‘name’, ‘homepage_url’)."
   ]
  },
  {
   "cell_type": "code",
   "execution_count": 3,
   "id": "4b3bb0cf",
   "metadata": {
    "colab": {
     "base_uri": "https://localhost:8080/",
     "height": 392
    },
    "id": "4b3bb0cf",
    "outputId": "de2857c8-820c-4570-cc36-7ab641c7237e"
   },
   "outputs": [
    {
     "data": {
      "text/html": [
       "<div>\n",
       "<style scoped>\n",
       "    .dataframe tbody tr th:only-of-type {\n",
       "        vertical-align: middle;\n",
       "    }\n",
       "\n",
       "    .dataframe tbody tr th {\n",
       "        vertical-align: top;\n",
       "    }\n",
       "\n",
       "    .dataframe thead th {\n",
       "        text-align: right;\n",
       "    }\n",
       "</style>\n",
       "<table border=\"1\" class=\"dataframe\">\n",
       "  <thead>\n",
       "    <tr style=\"text-align: right;\">\n",
       "      <th></th>\n",
       "      <th>permalink</th>\n",
       "      <th>name</th>\n",
       "      <th>homepage_url</th>\n",
       "      <th>category_list</th>\n",
       "      <th>market</th>\n",
       "      <th>funding_total_usd</th>\n",
       "      <th>status</th>\n",
       "      <th>country_code</th>\n",
       "      <th>state_code</th>\n",
       "      <th>region</th>\n",
       "      <th>city</th>\n",
       "      <th>funding_rounds</th>\n",
       "      <th>founded_at</th>\n",
       "      <th>first_funding_at</th>\n",
       "      <th>last_funding_at</th>\n",
       "    </tr>\n",
       "  </thead>\n",
       "  <tbody>\n",
       "    <tr>\n",
       "      <th>0</th>\n",
       "      <td>/organization/waywire</td>\n",
       "      <td>#waywire</td>\n",
       "      <td>http://www.waywire.com</td>\n",
       "      <td>|Entertainment|Politics|Social Media|News|</td>\n",
       "      <td>News</td>\n",
       "      <td>1750000.0</td>\n",
       "      <td>acquired</td>\n",
       "      <td>USA</td>\n",
       "      <td>NY</td>\n",
       "      <td>New York City</td>\n",
       "      <td>New York</td>\n",
       "      <td>1</td>\n",
       "      <td>2012-06-01</td>\n",
       "      <td>2012-06-30</td>\n",
       "      <td>2012-06-30</td>\n",
       "    </tr>\n",
       "    <tr>\n",
       "      <th>1</th>\n",
       "      <td>/organization/rock-your-paper</td>\n",
       "      <td>'Rock' Your Paper</td>\n",
       "      <td>http://www.rockyourpaper.org</td>\n",
       "      <td>|Publishing|Education|</td>\n",
       "      <td>Publishing</td>\n",
       "      <td>40000.0</td>\n",
       "      <td>operating</td>\n",
       "      <td>EST</td>\n",
       "      <td>Not Available</td>\n",
       "      <td>Tallinn</td>\n",
       "      <td>Tallinn</td>\n",
       "      <td>1</td>\n",
       "      <td>2012-10-26</td>\n",
       "      <td>2012-08-09</td>\n",
       "      <td>2012-08-09</td>\n",
       "    </tr>\n",
       "    <tr>\n",
       "      <th>2</th>\n",
       "      <td>/organization/in-touch-network</td>\n",
       "      <td>(In)Touch Network</td>\n",
       "      <td>http://www.InTouchNetwork.com</td>\n",
       "      <td>|Electronics|Guides|Coffee|Restaurants|Music|i...</td>\n",
       "      <td>Electronics</td>\n",
       "      <td>1500000.0</td>\n",
       "      <td>operating</td>\n",
       "      <td>GBR</td>\n",
       "      <td>Not Available</td>\n",
       "      <td>London</td>\n",
       "      <td>London</td>\n",
       "      <td>1</td>\n",
       "      <td>2011-04-01</td>\n",
       "      <td>2011-04-01</td>\n",
       "      <td>2011-04-01</td>\n",
       "    </tr>\n",
       "    <tr>\n",
       "      <th>3</th>\n",
       "      <td>/organization/r-ranch-and-mine</td>\n",
       "      <td>-R- Ranch and Mine</td>\n",
       "      <td>not available</td>\n",
       "      <td>|Tourism|Entertainment|Games|</td>\n",
       "      <td>Tourism</td>\n",
       "      <td>60000.0</td>\n",
       "      <td>operating</td>\n",
       "      <td>USA</td>\n",
       "      <td>TX</td>\n",
       "      <td>Dallas</td>\n",
       "      <td>Fort Worth</td>\n",
       "      <td>2</td>\n",
       "      <td>2014-01-01</td>\n",
       "      <td>2014-08-17</td>\n",
       "      <td>2014-09-26</td>\n",
       "    </tr>\n",
       "    <tr>\n",
       "      <th>4</th>\n",
       "      <td>/organization/club-domains</td>\n",
       "      <td>.Club Domains</td>\n",
       "      <td>http://nic.club/</td>\n",
       "      <td>|Software|</td>\n",
       "      <td>Software</td>\n",
       "      <td>7000000.0</td>\n",
       "      <td>Unknown</td>\n",
       "      <td>USA</td>\n",
       "      <td>FL</td>\n",
       "      <td>Ft. Lauderdale</td>\n",
       "      <td>Oakland Park</td>\n",
       "      <td>1</td>\n",
       "      <td>2011-10-10</td>\n",
       "      <td>2013-05-31</td>\n",
       "      <td>2013-05-31</td>\n",
       "    </tr>\n",
       "  </tbody>\n",
       "</table>\n",
       "</div>"
      ],
      "text/plain": [
       "                        permalink                name   \n",
       "0           /organization/waywire            #waywire  \\\n",
       "1   /organization/rock-your-paper   'Rock' Your Paper   \n",
       "2  /organization/in-touch-network   (In)Touch Network   \n",
       "3  /organization/r-ranch-and-mine  -R- Ranch and Mine   \n",
       "4      /organization/club-domains       .Club Domains   \n",
       "\n",
       "                    homepage_url   \n",
       "0         http://www.waywire.com  \\\n",
       "1   http://www.rockyourpaper.org   \n",
       "2  http://www.InTouchNetwork.com   \n",
       "3                  not available   \n",
       "4               http://nic.club/   \n",
       "\n",
       "                                       category_list         market   \n",
       "0         |Entertainment|Politics|Social Media|News|          News   \\\n",
       "1                             |Publishing|Education|    Publishing    \n",
       "2  |Electronics|Guides|Coffee|Restaurants|Music|i...   Electronics    \n",
       "3                      |Tourism|Entertainment|Games|       Tourism    \n",
       "4                                         |Software|      Software    \n",
       "\n",
       "   funding_total_usd     status country_code     state_code          region   \n",
       "0          1750000.0   acquired          USA             NY   New York City  \\\n",
       "1            40000.0  operating          EST  Not Available         Tallinn   \n",
       "2          1500000.0  operating          GBR  Not Available          London   \n",
       "3            60000.0  operating          USA             TX          Dallas   \n",
       "4          7000000.0    Unknown          USA             FL  Ft. Lauderdale   \n",
       "\n",
       "           city  funding_rounds  founded_at first_funding_at last_funding_at  \n",
       "0      New York               1  2012-06-01       2012-06-30      2012-06-30  \n",
       "1       Tallinn               1  2012-10-26       2012-08-09      2012-08-09  \n",
       "2        London               1  2011-04-01       2011-04-01      2011-04-01  \n",
       "3    Fort Worth               2  2014-01-01       2014-08-17      2014-09-26  \n",
       "4  Oakland Park               1  2011-10-10       2013-05-31      2013-05-31  "
      ]
     },
     "execution_count": 3,
     "metadata": {},
     "output_type": "execute_result"
    }
   ],
   "source": [
    "#Import the pre-processed dataset\n",
    "training = pd.read_csv(\"../data/processed_dataset.csv\")\n",
    "training.head()"
   ]
  },
  {
   "cell_type": "code",
   "execution_count": 4,
   "id": "ce94a8a2",
   "metadata": {
    "id": "ce94a8a2"
   },
   "outputs": [],
   "source": [
    "#Adjust the date columns to year only (int)\n",
    "training[['founded_at', 'first_funding_at', 'last_funding_at']] = training[['founded_at', 'first_funding_at', 'last_funding_at']].apply(lambda x: pd.to_numeric(pd.to_datetime(x).dt.year)).astype(int)"
   ]
  },
  {
   "cell_type": "markdown",
   "id": "DL9zUOjBHk2V",
   "metadata": {
    "id": "DL9zUOjBHk2V"
   },
   "source": [
    "We included the new feature 'funded_periods' as the difference between 'last_funding_at' and 'first_funding_at' to account the period of time each funding amount was totaled. "
   ]
  },
  {
   "cell_type": "code",
   "execution_count": 5,
   "id": "10512e19",
   "metadata": {
    "id": "10512e19"
   },
   "outputs": [],
   "source": [
    "training['funded_periods'] = (training['last_funding_at'] - training['first_funding_at']) # count years between first and last"
   ]
  },
  {
   "cell_type": "markdown",
   "id": "nMLfdKEBH2Pl",
   "metadata": {
    "id": "nMLfdKEBH2Pl"
   },
   "source": [
    "Our additional secondary data includes countries' GDP in from 1960-2016 and was chosen for further analysis on the relationship between GDP and funding_total_usd, as well as aspiring to use an additional feature to increase our model performance in the following process (World Bank Open Data, n.d.)."
   ]
  },
  {
   "cell_type": "code",
   "execution_count": 6,
   "id": "d68bb062",
   "metadata": {
    "colab": {
     "base_uri": "https://localhost:8080/",
     "height": 424
    },
    "id": "d68bb062",
    "outputId": "946fcea7-a417-4455-aede-40c342817173"
   },
   "outputs": [
    {
     "data": {
      "text/html": [
       "<div>\n",
       "<style scoped>\n",
       "    .dataframe tbody tr th:only-of-type {\n",
       "        vertical-align: middle;\n",
       "    }\n",
       "\n",
       "    .dataframe tbody tr th {\n",
       "        vertical-align: top;\n",
       "    }\n",
       "\n",
       "    .dataframe thead th {\n",
       "        text-align: right;\n",
       "    }\n",
       "</style>\n",
       "<table border=\"1\" class=\"dataframe\">\n",
       "  <thead>\n",
       "    <tr style=\"text-align: right;\">\n",
       "      <th></th>\n",
       "      <th>country name</th>\n",
       "      <th>country_code</th>\n",
       "      <th>founded_at</th>\n",
       "      <th>value</th>\n",
       "    </tr>\n",
       "  </thead>\n",
       "  <tbody>\n",
       "    <tr>\n",
       "      <th>0</th>\n",
       "      <td>Arab World</td>\n",
       "      <td>ARB</td>\n",
       "      <td>1968</td>\n",
       "      <td>2.576068e+10</td>\n",
       "    </tr>\n",
       "    <tr>\n",
       "      <th>1</th>\n",
       "      <td>Arab World</td>\n",
       "      <td>ARB</td>\n",
       "      <td>1969</td>\n",
       "      <td>2.843420e+10</td>\n",
       "    </tr>\n",
       "    <tr>\n",
       "      <th>2</th>\n",
       "      <td>Arab World</td>\n",
       "      <td>ARB</td>\n",
       "      <td>1970</td>\n",
       "      <td>3.138550e+10</td>\n",
       "    </tr>\n",
       "    <tr>\n",
       "      <th>3</th>\n",
       "      <td>Arab World</td>\n",
       "      <td>ARB</td>\n",
       "      <td>1971</td>\n",
       "      <td>3.642691e+10</td>\n",
       "    </tr>\n",
       "    <tr>\n",
       "      <th>4</th>\n",
       "      <td>Arab World</td>\n",
       "      <td>ARB</td>\n",
       "      <td>1972</td>\n",
       "      <td>4.331606e+10</td>\n",
       "    </tr>\n",
       "    <tr>\n",
       "      <th>...</th>\n",
       "      <td>...</td>\n",
       "      <td>...</td>\n",
       "      <td>...</td>\n",
       "      <td>...</td>\n",
       "    </tr>\n",
       "    <tr>\n",
       "      <th>11502</th>\n",
       "      <td>Zimbabwe</td>\n",
       "      <td>ZWE</td>\n",
       "      <td>2012</td>\n",
       "      <td>1.424249e+10</td>\n",
       "    </tr>\n",
       "    <tr>\n",
       "      <th>11503</th>\n",
       "      <td>Zimbabwe</td>\n",
       "      <td>ZWE</td>\n",
       "      <td>2013</td>\n",
       "      <td>1.545177e+10</td>\n",
       "    </tr>\n",
       "    <tr>\n",
       "      <th>11504</th>\n",
       "      <td>Zimbabwe</td>\n",
       "      <td>ZWE</td>\n",
       "      <td>2014</td>\n",
       "      <td>1.589105e+10</td>\n",
       "    </tr>\n",
       "    <tr>\n",
       "      <th>11505</th>\n",
       "      <td>Zimbabwe</td>\n",
       "      <td>ZWE</td>\n",
       "      <td>2015</td>\n",
       "      <td>1.630467e+10</td>\n",
       "    </tr>\n",
       "    <tr>\n",
       "      <th>11506</th>\n",
       "      <td>Zimbabwe</td>\n",
       "      <td>ZWE</td>\n",
       "      <td>2016</td>\n",
       "      <td>1.661996e+10</td>\n",
       "    </tr>\n",
       "  </tbody>\n",
       "</table>\n",
       "<p>11507 rows × 4 columns</p>\n",
       "</div>"
      ],
      "text/plain": [
       "      country name country_code  founded_at         value\n",
       "0       Arab World          ARB        1968  2.576068e+10\n",
       "1       Arab World          ARB        1969  2.843420e+10\n",
       "2       Arab World          ARB        1970  3.138550e+10\n",
       "3       Arab World          ARB        1971  3.642691e+10\n",
       "4       Arab World          ARB        1972  4.331606e+10\n",
       "...            ...          ...         ...           ...\n",
       "11502     Zimbabwe          ZWE        2012  1.424249e+10\n",
       "11503     Zimbabwe          ZWE        2013  1.545177e+10\n",
       "11504     Zimbabwe          ZWE        2014  1.589105e+10\n",
       "11505     Zimbabwe          ZWE        2015  1.630467e+10\n",
       "11506     Zimbabwe          ZWE        2016  1.661996e+10\n",
       "\n",
       "[11507 rows x 4 columns]"
      ]
     },
     "execution_count": 6,
     "metadata": {},
     "output_type": "execute_result"
    }
   ],
   "source": [
    "df_gdp = pd.read_csv('../data/gdp_csv.csv')\n",
    "df_gdp.columns = df_gdp.columns.str.lower()\n",
    "df_gdp = df_gdp.rename(columns={'country code': 'country_code', 'year': 'founded_at'}) #rename for merge\n",
    "df_gdp"
   ]
  },
  {
   "cell_type": "code",
   "execution_count": 7,
   "id": "bb4c4ddb",
   "metadata": {
    "colab": {
     "base_uri": "https://localhost:8080/",
     "height": 696
    },
    "id": "bb4c4ddb",
    "outputId": "d42123bd-3222-41a1-e614-ade9cb62594e"
   },
   "outputs": [
    {
     "data": {
      "text/html": [
       "<div>\n",
       "<style scoped>\n",
       "    .dataframe tbody tr th:only-of-type {\n",
       "        vertical-align: middle;\n",
       "    }\n",
       "\n",
       "    .dataframe tbody tr th {\n",
       "        vertical-align: top;\n",
       "    }\n",
       "\n",
       "    .dataframe thead th {\n",
       "        text-align: right;\n",
       "    }\n",
       "</style>\n",
       "<table border=\"1\" class=\"dataframe\">\n",
       "  <thead>\n",
       "    <tr style=\"text-align: right;\">\n",
       "      <th></th>\n",
       "      <th>permalink</th>\n",
       "      <th>name</th>\n",
       "      <th>homepage_url</th>\n",
       "      <th>category_list</th>\n",
       "      <th>market</th>\n",
       "      <th>funding_total_usd</th>\n",
       "      <th>status</th>\n",
       "      <th>country_code</th>\n",
       "      <th>state_code</th>\n",
       "      <th>region</th>\n",
       "      <th>city</th>\n",
       "      <th>funding_rounds</th>\n",
       "      <th>founded_at</th>\n",
       "      <th>first_funding_at</th>\n",
       "      <th>last_funding_at</th>\n",
       "      <th>funded_periods</th>\n",
       "      <th>gdp</th>\n",
       "    </tr>\n",
       "  </thead>\n",
       "  <tbody>\n",
       "    <tr>\n",
       "      <th>0</th>\n",
       "      <td>/organization/waywire</td>\n",
       "      <td>#waywire</td>\n",
       "      <td>http://www.waywire.com</td>\n",
       "      <td>|Entertainment|Politics|Social Media|News|</td>\n",
       "      <td>News</td>\n",
       "      <td>1750000.0</td>\n",
       "      <td>acquired</td>\n",
       "      <td>USA</td>\n",
       "      <td>NY</td>\n",
       "      <td>New York City</td>\n",
       "      <td>New York</td>\n",
       "      <td>1</td>\n",
       "      <td>2012</td>\n",
       "      <td>2012</td>\n",
       "      <td>2012</td>\n",
       "      <td>0</td>\n",
       "      <td>1.615526e+13</td>\n",
       "    </tr>\n",
       "    <tr>\n",
       "      <th>1</th>\n",
       "      <td>/organization/rock-your-paper</td>\n",
       "      <td>'Rock' Your Paper</td>\n",
       "      <td>http://www.rockyourpaper.org</td>\n",
       "      <td>|Publishing|Education|</td>\n",
       "      <td>Publishing</td>\n",
       "      <td>40000.0</td>\n",
       "      <td>operating</td>\n",
       "      <td>EST</td>\n",
       "      <td>Not Available</td>\n",
       "      <td>Tallinn</td>\n",
       "      <td>Tallinn</td>\n",
       "      <td>1</td>\n",
       "      <td>2012</td>\n",
       "      <td>2012</td>\n",
       "      <td>2012</td>\n",
       "      <td>0</td>\n",
       "      <td>2.304386e+10</td>\n",
       "    </tr>\n",
       "    <tr>\n",
       "      <th>2</th>\n",
       "      <td>/organization/in-touch-network</td>\n",
       "      <td>(In)Touch Network</td>\n",
       "      <td>http://www.InTouchNetwork.com</td>\n",
       "      <td>|Electronics|Guides|Coffee|Restaurants|Music|i...</td>\n",
       "      <td>Electronics</td>\n",
       "      <td>1500000.0</td>\n",
       "      <td>operating</td>\n",
       "      <td>GBR</td>\n",
       "      <td>Not Available</td>\n",
       "      <td>London</td>\n",
       "      <td>London</td>\n",
       "      <td>1</td>\n",
       "      <td>2011</td>\n",
       "      <td>2011</td>\n",
       "      <td>2011</td>\n",
       "      <td>0</td>\n",
       "      <td>2.619700e+12</td>\n",
       "    </tr>\n",
       "    <tr>\n",
       "      <th>3</th>\n",
       "      <td>/organization/r-ranch-and-mine</td>\n",
       "      <td>-R- Ranch and Mine</td>\n",
       "      <td>not available</td>\n",
       "      <td>|Tourism|Entertainment|Games|</td>\n",
       "      <td>Tourism</td>\n",
       "      <td>60000.0</td>\n",
       "      <td>operating</td>\n",
       "      <td>USA</td>\n",
       "      <td>TX</td>\n",
       "      <td>Dallas</td>\n",
       "      <td>Fort Worth</td>\n",
       "      <td>2</td>\n",
       "      <td>2014</td>\n",
       "      <td>2014</td>\n",
       "      <td>2014</td>\n",
       "      <td>0</td>\n",
       "      <td>1.739310e+13</td>\n",
       "    </tr>\n",
       "    <tr>\n",
       "      <th>4</th>\n",
       "      <td>/organization/club-domains</td>\n",
       "      <td>.Club Domains</td>\n",
       "      <td>http://nic.club/</td>\n",
       "      <td>|Software|</td>\n",
       "      <td>Software</td>\n",
       "      <td>7000000.0</td>\n",
       "      <td>Unknown</td>\n",
       "      <td>USA</td>\n",
       "      <td>FL</td>\n",
       "      <td>Ft. Lauderdale</td>\n",
       "      <td>Oakland Park</td>\n",
       "      <td>1</td>\n",
       "      <td>2011</td>\n",
       "      <td>2013</td>\n",
       "      <td>2013</td>\n",
       "      <td>0</td>\n",
       "      <td>1.551793e+13</td>\n",
       "    </tr>\n",
       "    <tr>\n",
       "      <th>...</th>\n",
       "      <td>...</td>\n",
       "      <td>...</td>\n",
       "      <td>...</td>\n",
       "      <td>...</td>\n",
       "      <td>...</td>\n",
       "      <td>...</td>\n",
       "      <td>...</td>\n",
       "      <td>...</td>\n",
       "      <td>...</td>\n",
       "      <td>...</td>\n",
       "      <td>...</td>\n",
       "      <td>...</td>\n",
       "      <td>...</td>\n",
       "      <td>...</td>\n",
       "      <td>...</td>\n",
       "      <td>...</td>\n",
       "      <td>...</td>\n",
       "    </tr>\n",
       "    <tr>\n",
       "      <th>28724</th>\n",
       "      <td>/organization/zyraz-technology</td>\n",
       "      <td>Zyraz Technology</td>\n",
       "      <td>http://www.zyraz.com</td>\n",
       "      <td>|Biotechnology|</td>\n",
       "      <td>Biotechnology</td>\n",
       "      <td>15419877.0</td>\n",
       "      <td>closed</td>\n",
       "      <td>MYS</td>\n",
       "      <td>Not Available</td>\n",
       "      <td>MYS - Other</td>\n",
       "      <td>Damansara New Village</td>\n",
       "      <td>4</td>\n",
       "      <td>1994</td>\n",
       "      <td>2008</td>\n",
       "      <td>2013</td>\n",
       "      <td>5</td>\n",
       "      <td>7.447798e+10</td>\n",
       "    </tr>\n",
       "    <tr>\n",
       "      <th>28725</th>\n",
       "      <td>/organization/zytoprotec</td>\n",
       "      <td>Zytoprotec</td>\n",
       "      <td>http://www.zytoprotec.com</td>\n",
       "      <td>|Biotechnology|</td>\n",
       "      <td>Biotechnology</td>\n",
       "      <td>2686600.0</td>\n",
       "      <td>operating</td>\n",
       "      <td>AUT</td>\n",
       "      <td>Not Available</td>\n",
       "      <td>Vienna</td>\n",
       "      <td>Gerasdorf Bei Wien</td>\n",
       "      <td>1</td>\n",
       "      <td>2007</td>\n",
       "      <td>2013</td>\n",
       "      <td>2013</td>\n",
       "      <td>0</td>\n",
       "      <td>3.886914e+11</td>\n",
       "    </tr>\n",
       "    <tr>\n",
       "      <th>28726</th>\n",
       "      <td>/organization/zzish</td>\n",
       "      <td>Zzish</td>\n",
       "      <td>http://www.zzish.com</td>\n",
       "      <td>|Analytics|Gamification|Developer APIs|iOS|And...</td>\n",
       "      <td>Education</td>\n",
       "      <td>320000.0</td>\n",
       "      <td>operating</td>\n",
       "      <td>GBR</td>\n",
       "      <td>Not Available</td>\n",
       "      <td>London</td>\n",
       "      <td>London</td>\n",
       "      <td>1</td>\n",
       "      <td>2013</td>\n",
       "      <td>2014</td>\n",
       "      <td>2014</td>\n",
       "      <td>0</td>\n",
       "      <td>2.739819e+12</td>\n",
       "    </tr>\n",
       "    <tr>\n",
       "      <th>28727</th>\n",
       "      <td>/organization/zzzzapp-com</td>\n",
       "      <td>Zzzzapp Wireless ltd.</td>\n",
       "      <td>http://www.zzzzapp.com</td>\n",
       "      <td>|Web Development|Advertising|Wireless|Mobile|</td>\n",
       "      <td>Web Development</td>\n",
       "      <td>97398.0</td>\n",
       "      <td>operating</td>\n",
       "      <td>HRV</td>\n",
       "      <td>Not Available</td>\n",
       "      <td>Split</td>\n",
       "      <td>Split</td>\n",
       "      <td>5</td>\n",
       "      <td>2012</td>\n",
       "      <td>2011</td>\n",
       "      <td>2014</td>\n",
       "      <td>3</td>\n",
       "      <td>5.648530e+10</td>\n",
       "    </tr>\n",
       "    <tr>\n",
       "      <th>28728</th>\n",
       "      <td>/organization/x</td>\n",
       "      <td>[x+1]</td>\n",
       "      <td>http://www.xplusone.com/</td>\n",
       "      <td>|Enterprise Software|</td>\n",
       "      <td>Enterprise Software</td>\n",
       "      <td>45000000.0</td>\n",
       "      <td>operating</td>\n",
       "      <td>USA</td>\n",
       "      <td>NY</td>\n",
       "      <td>New York City</td>\n",
       "      <td>New York</td>\n",
       "      <td>4</td>\n",
       "      <td>1999</td>\n",
       "      <td>2008</td>\n",
       "      <td>2013</td>\n",
       "      <td>5</td>\n",
       "      <td>9.660624e+12</td>\n",
       "    </tr>\n",
       "  </tbody>\n",
       "</table>\n",
       "<p>28729 rows × 17 columns</p>\n",
       "</div>"
      ],
      "text/plain": [
       "                            permalink                   name   \n",
       "0               /organization/waywire               #waywire  \\\n",
       "1       /organization/rock-your-paper      'Rock' Your Paper   \n",
       "2      /organization/in-touch-network      (In)Touch Network   \n",
       "3      /organization/r-ranch-and-mine     -R- Ranch and Mine   \n",
       "4          /organization/club-domains          .Club Domains   \n",
       "...                               ...                    ...   \n",
       "28724  /organization/zyraz-technology       Zyraz Technology   \n",
       "28725        /organization/zytoprotec             Zytoprotec   \n",
       "28726             /organization/zzish                  Zzish   \n",
       "28727       /organization/zzzzapp-com  Zzzzapp Wireless ltd.   \n",
       "28728                 /organization/x                  [x+1]   \n",
       "\n",
       "                        homepage_url   \n",
       "0             http://www.waywire.com  \\\n",
       "1       http://www.rockyourpaper.org   \n",
       "2      http://www.InTouchNetwork.com   \n",
       "3                      not available   \n",
       "4                   http://nic.club/   \n",
       "...                              ...   \n",
       "28724           http://www.zyraz.com   \n",
       "28725      http://www.zytoprotec.com   \n",
       "28726           http://www.zzish.com   \n",
       "28727         http://www.zzzzapp.com   \n",
       "28728       http://www.xplusone.com/   \n",
       "\n",
       "                                           category_list   \n",
       "0             |Entertainment|Politics|Social Media|News|  \\\n",
       "1                                 |Publishing|Education|   \n",
       "2      |Electronics|Guides|Coffee|Restaurants|Music|i...   \n",
       "3                          |Tourism|Entertainment|Games|   \n",
       "4                                             |Software|   \n",
       "...                                                  ...   \n",
       "28724                                    |Biotechnology|   \n",
       "28725                                    |Biotechnology|   \n",
       "28726  |Analytics|Gamification|Developer APIs|iOS|And...   \n",
       "28727      |Web Development|Advertising|Wireless|Mobile|   \n",
       "28728                              |Enterprise Software|   \n",
       "\n",
       "                      market  funding_total_usd     status country_code   \n",
       "0                      News           1750000.0   acquired          USA  \\\n",
       "1                Publishing             40000.0  operating          EST   \n",
       "2               Electronics           1500000.0  operating          GBR   \n",
       "3                   Tourism             60000.0  operating          USA   \n",
       "4                  Software           7000000.0    Unknown          USA   \n",
       "...                      ...                ...        ...          ...   \n",
       "28724         Biotechnology          15419877.0     closed          MYS   \n",
       "28725         Biotechnology           2686600.0  operating          AUT   \n",
       "28726             Education            320000.0  operating          GBR   \n",
       "28727       Web Development             97398.0  operating          HRV   \n",
       "28728   Enterprise Software          45000000.0  operating          USA   \n",
       "\n",
       "          state_code          region                   city  funding_rounds   \n",
       "0                 NY   New York City               New York               1  \\\n",
       "1      Not Available         Tallinn                Tallinn               1   \n",
       "2      Not Available          London                 London               1   \n",
       "3                 TX          Dallas             Fort Worth               2   \n",
       "4                 FL  Ft. Lauderdale           Oakland Park               1   \n",
       "...              ...             ...                    ...             ...   \n",
       "28724  Not Available     MYS - Other  Damansara New Village               4   \n",
       "28725  Not Available          Vienna     Gerasdorf Bei Wien               1   \n",
       "28726  Not Available          London                 London               1   \n",
       "28727  Not Available           Split                  Split               5   \n",
       "28728             NY   New York City               New York               4   \n",
       "\n",
       "       founded_at  first_funding_at  last_funding_at  funded_periods   \n",
       "0            2012              2012             2012               0  \\\n",
       "1            2012              2012             2012               0   \n",
       "2            2011              2011             2011               0   \n",
       "3            2014              2014             2014               0   \n",
       "4            2011              2013             2013               0   \n",
       "...           ...               ...              ...             ...   \n",
       "28724        1994              2008             2013               5   \n",
       "28725        2007              2013             2013               0   \n",
       "28726        2013              2014             2014               0   \n",
       "28727        2012              2011             2014               3   \n",
       "28728        1999              2008             2013               5   \n",
       "\n",
       "                gdp  \n",
       "0      1.615526e+13  \n",
       "1      2.304386e+10  \n",
       "2      2.619700e+12  \n",
       "3      1.739310e+13  \n",
       "4      1.551793e+13  \n",
       "...             ...  \n",
       "28724  7.447798e+10  \n",
       "28725  3.886914e+11  \n",
       "28726  2.739819e+12  \n",
       "28727  5.648530e+10  \n",
       "28728  9.660624e+12  \n",
       "\n",
       "[28729 rows x 17 columns]"
      ]
     },
     "execution_count": 7,
     "metadata": {},
     "output_type": "execute_result"
    }
   ],
   "source": [
    "training_with_gdp = pd.merge(training, df_gdp[['founded_at', 'country_code', 'value']], on=['founded_at', 'country_code'], how='left')\n",
    "training = training_with_gdp.rename(columns={'value': 'gdp'})\n",
    "training"
   ]
  },
  {
   "cell_type": "code",
   "execution_count": 8,
   "id": "877144c7",
   "metadata": {
    "colab": {
     "base_uri": "https://localhost:8080/"
    },
    "id": "877144c7",
    "outputId": "e8d9aaa7-9df2-4ba4-dbc3-d863e1a10aa8"
   },
   "outputs": [
    {
     "data": {
      "text/plain": [
       "permalink            0.000000\n",
       "name                 0.000000\n",
       "homepage_url         0.000000\n",
       "category_list        0.000000\n",
       "market               0.000000\n",
       "funding_total_usd    0.000000\n",
       "status               0.000000\n",
       "country_code         0.000000\n",
       "state_code           0.000000\n",
       "region               0.000000\n",
       "city                 0.000000\n",
       "funding_rounds       0.000000\n",
       "founded_at           0.000000\n",
       "first_funding_at     0.000000\n",
       "last_funding_at      0.000000\n",
       "funded_periods       0.000000\n",
       "gdp                  0.167079\n",
       "dtype: float64"
      ]
     },
     "execution_count": 8,
     "metadata": {},
     "output_type": "execute_result"
    }
   ],
   "source": [
    "# Look at percentage of missing values after including the secondary data with the GDP of the countries in that year\n",
    "training.isna().mean() * 100"
   ]
  },
  {
   "cell_type": "markdown",
   "id": "6wO2bGTrk2BB",
   "metadata": {
    "id": "6wO2bGTrk2BB"
   },
   "source": [
    "As only a small percentage of our addtional data in the column 'gdp' is missing, we decided to drop the rows with missing value for the creation of the predictors."
   ]
  },
  {
   "cell_type": "code",
   "execution_count": 9,
   "id": "958b641e",
   "metadata": {
    "id": "958b641e"
   },
   "outputs": [],
   "source": [
    "training = training.dropna(subset=['gdp'], axis=0)"
   ]
  },
  {
   "cell_type": "code",
   "execution_count": 10,
   "id": "5e5fd89e",
   "metadata": {
    "colab": {
     "base_uri": "https://localhost:8080/"
    },
    "id": "5e5fd89e",
    "outputId": "ed63ec5a-867c-48ca-ca40-12729648a40a"
   },
   "outputs": [
    {
     "data": {
      "text/plain": [
       "permalink            0.0\n",
       "name                 0.0\n",
       "homepage_url         0.0\n",
       "category_list        0.0\n",
       "market               0.0\n",
       "funding_total_usd    0.0\n",
       "status               0.0\n",
       "country_code         0.0\n",
       "state_code           0.0\n",
       "region               0.0\n",
       "city                 0.0\n",
       "funding_rounds       0.0\n",
       "founded_at           0.0\n",
       "first_funding_at     0.0\n",
       "last_funding_at      0.0\n",
       "funded_periods       0.0\n",
       "gdp                  0.0\n",
       "dtype: float64"
      ]
     },
     "execution_count": 10,
     "metadata": {},
     "output_type": "execute_result"
    }
   ],
   "source": [
    "training.isna().mean() * 100"
   ]
  },
  {
   "cell_type": "markdown",
   "id": "mVkByXfqlMMB",
   "metadata": {
    "id": "mVkByXfqlMMB"
   },
   "source": [
    "Addtional cleaning had to be applied to the column 'category_list' as different values in that column was divided by '|' and therefore not seen as clean data. The process was not initiated in the first part of the project as we assume 'market' as synonym for categories. Each category in the column is now distributed as separate rows and acting as transformed feature from 'category_list'."
   ]
  },
  {
   "cell_type": "code",
   "execution_count": 11,
   "id": "1e90942d",
   "metadata": {
    "id": "1e90942d"
   },
   "outputs": [],
   "source": [
    "#Separate categories into rows\n",
    "training = training.assign(category_list=training['category_list'].str.split('|')).explode('category_list')"
   ]
  },
  {
   "cell_type": "code",
   "execution_count": 12,
   "id": "349de385",
   "metadata": {
    "id": "349de385"
   },
   "outputs": [],
   "source": [
    "#One-hot coding for non-numerical columns\n",
    "ohc = pd.get_dummies(training, columns=['market', 'status', 'country_code', 'region', 'city', 'category_list','state_code'])\n",
    "ohc = ohc.drop(columns=['funding_total_usd','founded_at', 'first_funding_at', 'last_funding_at', 'funding_rounds','gdp','funded_periods'])\n",
    "training = pd.concat([training, ohc], axis=1)\n",
    "training = training.drop(columns=['permalink', 'name', 'homepage_url', 'market', 'status', 'country_code', 'region', 'city', 'category_list','state_code'])"
   ]
  },
  {
   "cell_type": "markdown",
   "id": "4E9dVlW5l_ee",
   "metadata": {
    "id": "4E9dVlW5l_ee"
   },
   "source": [
    "Before the model building process, we decided to create a correlation matrix and a heatmap to explore on the relationship between target variable and numerical data."
   ]
  },
  {
   "cell_type": "code",
   "execution_count": 13,
   "id": "6eee6a52",
   "metadata": {
    "colab": {
     "base_uri": "https://localhost:8080/"
    },
    "id": "6eee6a52",
    "outputId": "c63cec49-597d-4e18-c474-662fb00aba0b"
   },
   "outputs": [
    {
     "data": {
      "text/plain": [
       "funding_total_usd    float64\n",
       "funding_rounds         int64\n",
       "founded_at             int32\n",
       "first_funding_at       int32\n",
       "last_funding_at        int32\n",
       "                      ...   \n",
       "state_code_VT           bool\n",
       "state_code_WA           bool\n",
       "state_code_WI           bool\n",
       "state_code_WV           bool\n",
       "state_code_WY           bool\n",
       "Length: 5477, dtype: object"
      ]
     },
     "execution_count": 13,
     "metadata": {},
     "output_type": "execute_result"
    }
   ],
   "source": [
    "training.dtypes"
   ]
  },
  {
   "cell_type": "code",
   "execution_count": 14,
   "id": "KCo2nKb1BNgI",
   "metadata": {
    "colab": {
     "base_uri": "https://localhost:8080/"
    },
    "id": "KCo2nKb1BNgI",
    "outputId": "2bbd658a-21fa-4eaf-d9f8-b62618cba6c9"
   },
   "outputs": [
    {
     "name": "stdout",
     "output_type": "stream",
     "text": [
      "                   first_funding_at  last_funding_at  founded_at       gdp   \n",
      "first_funding_at           1.000000         0.740478    0.625981  0.073083  \\\n",
      "last_funding_at            0.740478         1.000000    0.498933  0.131834   \n",
      "founded_at                 0.625981         0.498933    1.000000  0.163329   \n",
      "gdp                        0.073083         0.131834    0.163329  1.000000   \n",
      "funded_periods            -0.539311         0.166616   -0.293233  0.057965   \n",
      "funding_rounds            -0.340240         0.206318   -0.147682  0.114000   \n",
      "funding_total_usd         -0.141706         0.035324   -0.145020  0.011785   \n",
      "\n",
      "                   funded_periods  funding_rounds  funding_total_usd  \n",
      "first_funding_at        -0.539311       -0.340240          -0.141706  \n",
      "last_funding_at          0.166616        0.206318           0.035324  \n",
      "founded_at              -0.293233       -0.147682          -0.145020  \n",
      "gdp                      0.057965        0.114000           0.011785  \n",
      "funded_periods           1.000000        0.757686           0.252161  \n",
      "funding_rounds           0.757686        1.000000           0.284269  \n",
      "funding_total_usd        0.252161        0.284269           1.000000  \n"
     ]
    }
   ],
   "source": [
    "# Select the columns of interest\n",
    "columns_of_interest = ['first_funding_at', 'last_funding_at', 'founded_at', 'gdp','funded_periods','funding_rounds','funding_total_usd']\n",
    "training_subset = training[columns_of_interest]\n",
    "\n",
    "# Compute the correlation matrix\n",
    "correlation_matrix = training_subset.corr()\n",
    "\n",
    "# Print the correlation matrix\n",
    "print(correlation_matrix)"
   ]
  },
  {
   "cell_type": "code",
   "execution_count": 15,
   "id": "YXjmnfWlCWnx",
   "metadata": {
    "colab": {
     "base_uri": "https://localhost:8080/",
     "height": 561
    },
    "id": "YXjmnfWlCWnx",
    "outputId": "74c76901-bb44-4ede-d400-5a76f80d1c07"
   },
   "outputs": [
    {
     "data": {
      "image/png": "[encoded data removed]",
      "text/plain": [
       "<Figure size 640x480 with 2 Axes>"
      ]
     },
     "metadata": {},
     "output_type": "display_data"
    }
   ],
   "source": [
    "# Create a heatmap\n",
    "sns.heatmap(correlation_matrix, annot=True, cmap='coolwarm', center=0)\n",
    "\n",
    "# Show the plot\n",
    "plt.show()"
   ]
  },
  {
   "cell_type": "markdown",
   "id": "5VP3YNPUJFZe",
   "metadata": {
    "id": "5VP3YNPUJFZe"
   },
   "source": [
    "Based on the correlation matrix and heatmap we can conclude that our target variable is positively correlated with our additional feature 'funded periods' and 'gdp'. Hence, we decided to leave in the two features for the our following models."
   ]
  },
  {
   "cell_type": "markdown",
   "id": "88fc3c5b",
   "metadata": {
    "id": "88fc3c5b"
   },
   "source": [
    "## The Modelling Process"
   ]
  },
  {
   "cell_type": "markdown",
   "id": "exPdaZ-aLJu3",
   "metadata": {
    "id": "exPdaZ-aLJu3"
   },
   "source": [
    "For the development of each model, we created a single training/testing data set to ensure each model is trained and tested with the same data. The training/test data sets are split into a ratio of 70/30 (70% training and 30% testing to ensure enough data for both the training and testing. The training dataset is divided into the pre-processed data without the total funding (‘x_train’) and the training data containing the target_variable (‘y_train’).\n",
    "\n",
    "During the modeling process we follow the three steps:\n",
    "1. Train the model (model parameters)\n",
    "2. Validate the model (model choice, hyperparameters)\n",
    "3. Test the model (on holdout testdata)"
   ]
  },
  {
   "cell_type": "code",
   "execution_count": 16,
   "id": "6c33d319",
   "metadata": {
    "colab": {
     "base_uri": "https://localhost:8080/",
     "height": 303
    },
    "id": "6c33d319",
    "outputId": "c1577ebf-5db4-4813-fd02-132f3ce42331",
    "scrolled": true
   },
   "outputs": [
    {
     "data": {
      "text/html": [
       "<div>\n",
       "<style scoped>\n",
       "    .dataframe tbody tr th:only-of-type {\n",
       "        vertical-align: middle;\n",
       "    }\n",
       "\n",
       "    .dataframe tbody tr th {\n",
       "        vertical-align: top;\n",
       "    }\n",
       "\n",
       "    .dataframe thead th {\n",
       "        text-align: right;\n",
       "    }\n",
       "</style>\n",
       "<table border=\"1\" class=\"dataframe\">\n",
       "  <thead>\n",
       "    <tr style=\"text-align: right;\">\n",
       "      <th></th>\n",
       "      <th>funding_rounds</th>\n",
       "      <th>founded_at</th>\n",
       "      <th>first_funding_at</th>\n",
       "      <th>last_funding_at</th>\n",
       "      <th>funded_periods</th>\n",
       "      <th>gdp</th>\n",
       "      <th>market_ 3D</th>\n",
       "      <th>market_ 3D Printing</th>\n",
       "      <th>market_ 3D Technology</th>\n",
       "      <th>market_ Accounting</th>\n",
       "      <th>...</th>\n",
       "      <th>state_code_SK</th>\n",
       "      <th>state_code_TN</th>\n",
       "      <th>state_code_TX</th>\n",
       "      <th>state_code_UT</th>\n",
       "      <th>state_code_VA</th>\n",
       "      <th>state_code_VT</th>\n",
       "      <th>state_code_WA</th>\n",
       "      <th>state_code_WI</th>\n",
       "      <th>state_code_WV</th>\n",
       "      <th>state_code_WY</th>\n",
       "    </tr>\n",
       "  </thead>\n",
       "  <tbody>\n",
       "    <tr>\n",
       "      <th>1</th>\n",
       "      <td>1</td>\n",
       "      <td>2012</td>\n",
       "      <td>2012</td>\n",
       "      <td>2012</td>\n",
       "      <td>0</td>\n",
       "      <td>2.304386e+10</td>\n",
       "      <td>False</td>\n",
       "      <td>False</td>\n",
       "      <td>False</td>\n",
       "      <td>False</td>\n",
       "      <td>...</td>\n",
       "      <td>False</td>\n",
       "      <td>False</td>\n",
       "      <td>False</td>\n",
       "      <td>False</td>\n",
       "      <td>False</td>\n",
       "      <td>False</td>\n",
       "      <td>False</td>\n",
       "      <td>False</td>\n",
       "      <td>False</td>\n",
       "      <td>False</td>\n",
       "    </tr>\n",
       "    <tr>\n",
       "      <th>1</th>\n",
       "      <td>1</td>\n",
       "      <td>2012</td>\n",
       "      <td>2012</td>\n",
       "      <td>2012</td>\n",
       "      <td>0</td>\n",
       "      <td>2.304386e+10</td>\n",
       "      <td>False</td>\n",
       "      <td>False</td>\n",
       "      <td>False</td>\n",
       "      <td>False</td>\n",
       "      <td>...</td>\n",
       "      <td>False</td>\n",
       "      <td>False</td>\n",
       "      <td>False</td>\n",
       "      <td>False</td>\n",
       "      <td>False</td>\n",
       "      <td>False</td>\n",
       "      <td>False</td>\n",
       "      <td>False</td>\n",
       "      <td>False</td>\n",
       "      <td>False</td>\n",
       "    </tr>\n",
       "    <tr>\n",
       "      <th>1</th>\n",
       "      <td>1</td>\n",
       "      <td>2012</td>\n",
       "      <td>2012</td>\n",
       "      <td>2012</td>\n",
       "      <td>0</td>\n",
       "      <td>2.304386e+10</td>\n",
       "      <td>False</td>\n",
       "      <td>False</td>\n",
       "      <td>False</td>\n",
       "      <td>False</td>\n",
       "      <td>...</td>\n",
       "      <td>False</td>\n",
       "      <td>False</td>\n",
       "      <td>False</td>\n",
       "      <td>False</td>\n",
       "      <td>False</td>\n",
       "      <td>False</td>\n",
       "      <td>False</td>\n",
       "      <td>False</td>\n",
       "      <td>False</td>\n",
       "      <td>False</td>\n",
       "    </tr>\n",
       "    <tr>\n",
       "      <th>1</th>\n",
       "      <td>1</td>\n",
       "      <td>2012</td>\n",
       "      <td>2012</td>\n",
       "      <td>2012</td>\n",
       "      <td>0</td>\n",
       "      <td>2.304386e+10</td>\n",
       "      <td>False</td>\n",
       "      <td>False</td>\n",
       "      <td>False</td>\n",
       "      <td>False</td>\n",
       "      <td>...</td>\n",
       "      <td>False</td>\n",
       "      <td>False</td>\n",
       "      <td>False</td>\n",
       "      <td>False</td>\n",
       "      <td>False</td>\n",
       "      <td>False</td>\n",
       "      <td>False</td>\n",
       "      <td>False</td>\n",
       "      <td>False</td>\n",
       "      <td>False</td>\n",
       "    </tr>\n",
       "  </tbody>\n",
       "</table>\n",
       "<p>4 rows × 5476 columns</p>\n",
       "</div>"
      ],
      "text/plain": [
       "   funding_rounds  founded_at  first_funding_at  last_funding_at   \n",
       "1               1        2012              2012             2012  \\\n",
       "1               1        2012              2012             2012   \n",
       "1               1        2012              2012             2012   \n",
       "1               1        2012              2012             2012   \n",
       "\n",
       "   funded_periods           gdp  market_ 3D   market_ 3D Printing    \n",
       "1               0  2.304386e+10        False                 False  \\\n",
       "1               0  2.304386e+10        False                 False   \n",
       "1               0  2.304386e+10        False                 False   \n",
       "1               0  2.304386e+10        False                 False   \n",
       "\n",
       "   market_ 3D Technology   market_ Accounting   ...  state_code_SK   \n",
       "1                   False                False  ...          False  \\\n",
       "1                   False                False  ...          False   \n",
       "1                   False                False  ...          False   \n",
       "1                   False                False  ...          False   \n",
       "\n",
       "   state_code_TN  state_code_TX  state_code_UT  state_code_VA  state_code_VT   \n",
       "1          False          False          False          False          False  \\\n",
       "1          False          False          False          False          False   \n",
       "1          False          False          False          False          False   \n",
       "1          False          False          False          False          False   \n",
       "\n",
       "   state_code_WA  state_code_WI  state_code_WV  state_code_WY  \n",
       "1          False          False          False          False  \n",
       "1          False          False          False          False  \n",
       "1          False          False          False          False  \n",
       "1          False          False          False          False  \n",
       "\n",
       "[4 rows x 5476 columns]"
      ]
     },
     "execution_count": 16,
     "metadata": {},
     "output_type": "execute_result"
    }
   ],
   "source": [
    "#Create the training data sets (y_training = target variable) and split into test/training data\n",
    "x_training = training.drop(columns=['funding_total_usd'],axis = 1)\n",
    "y_training = training['funding_total_usd']\n",
    "x_train, x_val, y_train, y_val = train_test_split(x_training, y_training, test_size=0.3, random_state=50)\n",
    "x_training[6:10]"
   ]
  },
  {
   "cell_type": "code",
   "execution_count": 17,
   "id": "f634eaf4",
   "metadata": {
    "colab": {
     "base_uri": "https://localhost:8080/"
    },
    "id": "f634eaf4",
    "outputId": "d94b6267-a1b7-4d86-da4e-f00970340854"
   },
   "outputs": [
    {
     "data": {
      "text/plain": [
       "0         1750000.0\n",
       "0         1750000.0\n",
       "0         1750000.0\n",
       "0         1750000.0\n",
       "0         1750000.0\n",
       "            ...    \n",
       "28727       97398.0\n",
       "28727       97398.0\n",
       "28728    45000000.0\n",
       "28728    45000000.0\n",
       "28728    45000000.0\n",
       "Name: funding_total_usd, Length: 123277, dtype: float64"
      ]
     },
     "execution_count": 17,
     "metadata": {},
     "output_type": "execute_result"
    }
   ],
   "source": [
    "y_training"
   ]
  },
  {
   "cell_type": "markdown",
   "id": "d057c79b",
   "metadata": {
    "id": "d057c79b"
   },
   "source": [
    "### Linear Regression"
   ]
  },
  {
   "cell_type": "markdown",
   "id": "Z9BIXpyz_p8T",
   "metadata": {
    "id": "Z9BIXpyz_p8T"
   },
   "source": [
    "For the linear regression we only included the features that are positively correlated to our target varialbe 'funding_total_usd'. Therefore, we created new X_lr and y_lr and split the dataset into again into Training-Test-Data for the GridSearchCV. The reasoning behind this approach is that the categorical variables were transformed into numeric variables via One-Hot-Encoding in the previous process, which highly increased the dimensionality of the dataset as well as number of features for the linear regression.\n",
    "\n",
    "Note: The session crashed several times when trying to fit the linear regression model using x_train and y_train, hence we included only variables of numeric nature and positive correlation with the target variable into our linear regression."
   ]
  },
  {
   "cell_type": "code",
   "execution_count": 18,
   "id": "HRbRQknwA2Vs",
   "metadata": {
    "id": "HRbRQknwA2Vs"
   },
   "outputs": [],
   "source": [
    "X_lr = training [['funded_periods','funding_rounds','last_funding_at','gdp']]\n",
    "\n",
    "y_lr = training['funding_total_usd']\n",
    "\n",
    "X_train_lr, X_test_lr, y_train_lr, y_test_lr = train_test_split(X_lr, y_lr, test_size=0.3, random_state=50)"
   ]
  },
  {
   "cell_type": "code",
   "execution_count": 19,
   "id": "0q840KK9_R05",
   "metadata": {
    "colab": {
     "base_uri": "https://localhost:8080/",
     "height": 493
    },
    "id": "0q840KK9_R05",
    "outputId": "39b3e0c3-b803-4038-fdb8-3a0374c0bcca"
   },
   "outputs": [
    {
     "name": "stdout",
     "output_type": "stream",
     "text": [
      "Fitting 5 folds for each of 2 candidates, totalling 10 fits\n",
      "[CV 1/5; 1/2] START fit_intercept=True..........................................\n",
      "[CV 1/5; 1/2] END fit_intercept=True;, score=-4716398552216482.000 total time=   0.0s\n",
      "[CV 2/5; 1/2] START fit_intercept=True..........................................\n",
      "[CV 2/5; 1/2] END fit_intercept=True;, score=-2117765442310127.500 total time=   0.0s\n",
      "[CV 3/5; 1/2] START fit_intercept=True..........................................\n",
      "[CV 3/5; 1/2] END fit_intercept=True;, score=-6604480936829499.000 total time=   0.0s\n",
      "[CV 4/5; 1/2] START fit_intercept=True..........................................\n",
      "[CV 4/5; 1/2] END fit_intercept=True;, score=-3642080801634313.000 total time=   0.0s\n",
      "[CV 5/5; 1/2] START fit_intercept=True..........................................\n",
      "[CV 5/5; 1/2] END fit_intercept=True;, score=-8452978477656891.000 total time=   0.0s\n",
      "[CV 1/5; 2/2] START fit_intercept=False.........................................\n",
      "[CV 1/5; 2/2] END fit_intercept=False;, score=-4718581283261208.000 total time=   0.0s\n",
      "[CV 2/5; 2/2] START fit_intercept=False.........................................\n",
      "[CV 2/5; 2/2] END fit_intercept=False;, score=-2119620629866304.750 total time=   0.0s\n",
      "[CV 3/5; 2/2] START fit_intercept=False.........................................\n",
      "[CV 3/5; 2/2] END fit_intercept=False;, score=-6606770649581286.000 total time=   0.0s\n",
      "[CV 4/5; 2/2] START fit_intercept=False.........................................\n",
      "[CV 4/5; 2/2] END fit_intercept=False;, score=-3645904641011650.000 total time=   0.0s\n",
      "[CV 5/5; 2/2] START fit_intercept=False.........................................\n",
      "[CV 5/5; 2/2] END fit_intercept=False;, score=-8453649847292159.000 total time=   0.0s\n"
     ]
    },
    {
     "data": {
      "text/html": [
       "<style>#sk-container-id-1 {color: black;background-color: white;}#sk-container-id-1 pre{padding: 0;}#sk-container-id-1 div.sk-toggleable {background-color: white;}#sk-container-id-1 label.sk-toggleable__label {cursor: pointer;display: block;width: 100%;margin-bottom: 0;padding: 0.3em;box-sizing: border-box;text-align: center;}#sk-container-id-1 label.sk-toggleable__label-arrow:before {content: \"▸\";float: left;margin-right: 0.25em;color: #696969;}#sk-container-id-1 label.sk-toggleable__label-arrow:hover:before {color: black;}#sk-container-id-1 div.sk-estimator:hover label.sk-toggleable__label-arrow:before {color: black;}#sk-container-id-1 div.sk-toggleable__content {max-height: 0;max-width: 0;overflow: hidden;text-align: left;background-color: #f0f8ff;}#sk-container-id-1 div.sk-toggleable__content pre {margin: 0.2em;color: black;border-radius: 0.25em;background-color: #f0f8ff;}#sk-container-id-1 input.sk-toggleable__control:checked~div.sk-toggleable__content {max-height: 200px;max-width: 100%;overflow: auto;}#sk-container-id-1 input.sk-toggleable__control:checked~label.sk-toggleable__label-arrow:before {content: \"▾\";}#sk-container-id-1 div.sk-estimator input.sk-toggleable__control:checked~label.sk-toggleable__label {background-color: #d4ebff;}#sk-container-id-1 div.sk-label input.sk-toggleable__control:checked~label.sk-toggleable__label {background-color: #d4ebff;}#sk-container-id-1 input.sk-hidden--visually {border: 0;clip: rect(1px 1px 1px 1px);clip: rect(1px, 1px, 1px, 1px);height: 1px;margin: -1px;overflow: hidden;padding: 0;position: absolute;width: 1px;}#sk-container-id-1 div.sk-estimator {font-family: monospace;background-color: #f0f8ff;border: 1px dotted black;border-radius: 0.25em;box-sizing: border-box;margin-bottom: 0.5em;}#sk-container-id-1 div.sk-estimator:hover {background-color: #d4ebff;}#sk-container-id-1 div.sk-parallel-item::after {content: \"\";width: 100%;border-bottom: 1px solid gray;flex-grow: 1;}#sk-container-id-1 div.sk-label:hover label.sk-toggleable__label {background-color: #d4ebff;}#sk-container-id-1 div.sk-serial::before {content: \"\";position: absolute;border-left: 1px solid gray;box-sizing: border-box;top: 0;bottom: 0;left: 50%;z-index: 0;}#sk-container-id-1 div.sk-serial {display: flex;flex-direction: column;align-items: center;background-color: white;padding-right: 0.2em;padding-left: 0.2em;position: relative;}#sk-container-id-1 div.sk-item {position: relative;z-index: 1;}#sk-container-id-1 div.sk-parallel {display: flex;align-items: stretch;justify-content: center;background-color: white;position: relative;}#sk-container-id-1 div.sk-item::before, #sk-container-id-1 div.sk-parallel-item::before {content: \"\";position: absolute;border-left: 1px solid gray;box-sizing: border-box;top: 0;bottom: 0;left: 50%;z-index: -1;}#sk-container-id-1 div.sk-parallel-item {display: flex;flex-direction: column;z-index: 1;position: relative;background-color: white;}#sk-container-id-1 div.sk-parallel-item:first-child::after {align-self: flex-end;width: 50%;}#sk-container-id-1 div.sk-parallel-item:last-child::after {align-self: flex-start;width: 50%;}#sk-container-id-1 div.sk-parallel-item:only-child::after {width: 0;}#sk-container-id-1 div.sk-dashed-wrapped {border: 1px dashed gray;margin: 0 0.4em 0.5em 0.4em;box-sizing: border-box;padding-bottom: 0.4em;background-color: white;}#sk-container-id-1 div.sk-label label {font-family: monospace;font-weight: bold;display: inline-block;line-height: 1.2em;}#sk-container-id-1 div.sk-label-container {text-align: center;}#sk-container-id-1 div.sk-container {/* jupyter's `normalize.less` sets `[hidden] { display: none; }` but bootstrap.min.css set `[hidden] { display: none !important; }` so we also need the `!important` here to be able to override the default hidden behavior on the sphinx rendered scikit-learn.org. See: https://github.com/scikit-learn/scikit-learn/issues/21755 */display: inline-block !important;position: relative;}#sk-container-id-1 div.sk-text-repr-fallback {display: none;}</style><div id=\"sk-container-id-1\" class=\"sk-top-container\"><div class=\"sk-text-repr-fallback\"><pre>GridSearchCV(cv=5, estimator=LinearRegression(),\n",
       "             param_grid={&#x27;fit_intercept&#x27;: [True, False]},\n",
       "             scoring=&#x27;neg_mean_squared_error&#x27;, verbose=10)</pre><b>In a Jupyter environment, please rerun this cell to show the HTML representation or trust the notebook. <br />On GitHub, the HTML representation is unable to render, please try loading this page with nbviewer.org.</b></div><div class=\"sk-container\" hidden><div class=\"sk-item sk-dashed-wrapped\"><div class=\"sk-label-container\"><div class=\"sk-label sk-toggleable\"><input class=\"sk-toggleable__control sk-hidden--visually\" id=\"sk-estimator-id-1\" type=\"checkbox\" ><label for=\"sk-estimator-id-1\" class=\"sk-toggleable__label sk-toggleable__label-arrow\">GridSearchCV</label><div class=\"sk-toggleable__content\"><pre>GridSearchCV(cv=5, estimator=LinearRegression(),\n",
       "             param_grid={&#x27;fit_intercept&#x27;: [True, False]},\n",
       "             scoring=&#x27;neg_mean_squared_error&#x27;, verbose=10)</pre></div></div></div><div class=\"sk-parallel\"><div class=\"sk-parallel-item\"><div class=\"sk-item\"><div class=\"sk-label-container\"><div class=\"sk-label sk-toggleable\"><input class=\"sk-toggleable__control sk-hidden--visually\" id=\"sk-estimator-id-2\" type=\"checkbox\" ><label for=\"sk-estimator-id-2\" class=\"sk-toggleable__label sk-toggleable__label-arrow\">estimator: LinearRegression</label><div class=\"sk-toggleable__content\"><pre>LinearRegression()</pre></div></div></div><div class=\"sk-serial\"><div class=\"sk-item\"><div class=\"sk-estimator sk-toggleable\"><input class=\"sk-toggleable__control sk-hidden--visually\" id=\"sk-estimator-id-3\" type=\"checkbox\" ><label for=\"sk-estimator-id-3\" class=\"sk-toggleable__label sk-toggleable__label-arrow\">LinearRegression</label><div class=\"sk-toggleable__content\"><pre>LinearRegression()</pre></div></div></div></div></div></div></div></div></div></div>"
      ],
      "text/plain": [
       "GridSearchCV(cv=5, estimator=LinearRegression(),\n",
       "             param_grid={'fit_intercept': [True, False]},\n",
       "             scoring='neg_mean_squared_error', verbose=10)"
      ]
     },
     "execution_count": 19,
     "metadata": {},
     "output_type": "execute_result"
    }
   ],
   "source": [
    "# Define the linear regression model\n",
    "lr = LinearRegression()\n",
    "\n",
    "# Define the hyperparameters to search\n",
    "param_grid = {\n",
    "    'fit_intercept': [True, False]\n",
    "}\n",
    "\n",
    "# Perform grid search with 5-fold cross-validation\n",
    "grid_search = GridSearchCV(lr, param_grid, cv=5, scoring='neg_mean_squared_error', verbose=10)\n",
    "\n",
    "grid_search.fit(X_train_lr, y_train_lr)"
   ]
  },
  {
   "cell_type": "code",
   "execution_count": 20,
   "id": "5IptCqxNB-6s",
   "metadata": {
    "colab": {
     "base_uri": "https://localhost:8080/"
    },
    "id": "5IptCqxNB-6s",
    "outputId": "6ce0a383-a095-4e27-e435-06c053f61798"
   },
   "outputs": [
    {
     "name": "stdout",
     "output_type": "stream",
     "text": [
      "Best parameters: {'fit_intercept': True}\n",
      "Best cross-validation score (RMSE): 71461464.04\n"
     ]
    }
   ],
   "source": [
    "# Show mean squared error of best estimator model\n",
    "\n",
    "print(\"Best parameters: {}\".format(grid_search.best_params_))\n",
    "print(\"Best cross-validation score (RMSE): {:.2f}\".format(np.sqrt(-grid_search.best_score_)))"
   ]
  },
  {
   "cell_type": "code",
   "execution_count": 21,
   "id": "yComLya7_dBr",
   "metadata": {
    "colab": {
     "base_uri": "https://localhost:8080/"
    },
    "id": "yComLya7_dBr",
    "outputId": "569af691-a06e-42c7-be74-cdd73d360daa"
   },
   "outputs": [
    {
     "name": "stdout",
     "output_type": "stream",
     "text": [
      "Mean Squared Error: 3634838280631913.00\n",
      "Mean Absolute Error: 16346710.28\n",
      "Root Mean Squared Error: 60289620.01\n",
      "R2 Score: 0.11\n"
     ]
    }
   ],
   "source": [
    "# Show test set metrics\n",
    "\n",
    "best_model = grid_search.best_estimator_\n",
    "y_pred_lr = best_model.predict(X_test_lr)\n",
    "\n",
    "mse = mean_squared_error(y_test_lr, y_pred_lr)\n",
    "print(\"Mean Squared Error: {:.2f}\".format(mse))\n",
    "mae = mean_absolute_error(y_test_lr, y_pred_lr)\n",
    "print(\"Mean Absolute Error: {:.2f}\".format(mae))\n",
    "rmse = np.sqrt(mean_squared_error(y_test_lr, y_pred_lr))\n",
    "print(\"Root Mean Squared Error: {:.2f}\".format(rmse))\n",
    "r2 = r2_score(y_test_lr, y_pred_lr)\n",
    "print(\"R2 Score: {:.2f}\".format(r2))"
   ]
  },
  {
   "cell_type": "markdown",
   "id": "8d2d87ea",
   "metadata": {
    "id": "8d2d87ea"
   },
   "source": [
    "### Decision Tree Regression"
   ]
  },
  {
   "cell_type": "code",
   "execution_count": 22,
   "id": "tPUC3EgBLTRf",
   "metadata": {
    "id": "tPUC3EgBLTRf"
   },
   "outputs": [],
   "source": [
    "# Create a Decision Tree Regressor\n",
    "tree = DecisionTreeRegressor(random_state=50)\n",
    "\n",
    "# Define the hyperparameter grid\n",
    "param_grid = {\n",
    "    'max_depth': [5, 10, 20],\n",
    "    'min_samples_split': [2, 5, 10],\n",
    "    'min_samples_leaf': [1, 2, 4]\n",
    "}"
   ]
  },
  {
   "cell_type": "code",
   "execution_count": 23,
   "id": "NH_r3IfBonnP",
   "metadata": {
    "id": "NH_r3IfBonnP"
   },
   "outputs": [],
   "source": [
    "# Perform a grid search with 5-fold cross-validation\n",
    "grid_search = GridSearchCV(tree, param_grid, cv=5, scoring='neg_mean_squared_error', verbose = 10, n_jobs =-1)"
   ]
  },
  {
   "cell_type": "code",
   "execution_count": 24,
   "id": "db3QxYNAoqQc",
   "metadata": {
    "colab": {
     "base_uri": "https://localhost:8080/",
     "height": 1000
    },
    "id": "db3QxYNAoqQc",
    "outputId": "4f9870d9-efe4-4879-973a-5d80c0a787dc"
   },
   "outputs": [
    {
     "name": "stdout",
     "output_type": "stream",
     "text": [
      "Fitting 5 folds for each of 27 candidates, totalling 135 fits\n"
     ]
    },
    {
     "data": {
      "text/html": [
       "<style>#sk-container-id-2 {color: black;background-color: white;}#sk-container-id-2 pre{padding: 0;}#sk-container-id-2 div.sk-toggleable {background-color: white;}#sk-container-id-2 label.sk-toggleable__label {cursor: pointer;display: block;width: 100%;margin-bottom: 0;padding: 0.3em;box-sizing: border-box;text-align: center;}#sk-container-id-2 label.sk-toggleable__label-arrow:before {content: \"▸\";float: left;margin-right: 0.25em;color: #696969;}#sk-container-id-2 label.sk-toggleable__label-arrow:hover:before {color: black;}#sk-container-id-2 div.sk-estimator:hover label.sk-toggleable__label-arrow:before {color: black;}#sk-container-id-2 div.sk-toggleable__content {max-height: 0;max-width: 0;overflow: hidden;text-align: left;background-color: #f0f8ff;}#sk-container-id-2 div.sk-toggleable__content pre {margin: 0.2em;color: black;border-radius: 0.25em;background-color: #f0f8ff;}#sk-container-id-2 input.sk-toggleable__control:checked~div.sk-toggleable__content {max-height: 200px;max-width: 100%;overflow: auto;}#sk-container-id-2 input.sk-toggleable__control:checked~label.sk-toggleable__label-arrow:before {content: \"▾\";}#sk-container-id-2 div.sk-estimator input.sk-toggleable__control:checked~label.sk-toggleable__label {background-color: #d4ebff;}#sk-container-id-2 div.sk-label input.sk-toggleable__control:checked~label.sk-toggleable__label {background-color: #d4ebff;}#sk-container-id-2 input.sk-hidden--visually {border: 0;clip: rect(1px 1px 1px 1px);clip: rect(1px, 1px, 1px, 1px);height: 1px;margin: -1px;overflow: hidden;padding: 0;position: absolute;width: 1px;}#sk-container-id-2 div.sk-estimator {font-family: monospace;background-color: #f0f8ff;border: 1px dotted black;border-radius: 0.25em;box-sizing: border-box;margin-bottom: 0.5em;}#sk-container-id-2 div.sk-estimator:hover {background-color: #d4ebff;}#sk-container-id-2 div.sk-parallel-item::after {content: \"\";width: 100%;border-bottom: 1px solid gray;flex-grow: 1;}#sk-container-id-2 div.sk-label:hover label.sk-toggleable__label {background-color: #d4ebff;}#sk-container-id-2 div.sk-serial::before {content: \"\";position: absolute;border-left: 1px solid gray;box-sizing: border-box;top: 0;bottom: 0;left: 50%;z-index: 0;}#sk-container-id-2 div.sk-serial {display: flex;flex-direction: column;align-items: center;background-color: white;padding-right: 0.2em;padding-left: 0.2em;position: relative;}#sk-container-id-2 div.sk-item {position: relative;z-index: 1;}#sk-container-id-2 div.sk-parallel {display: flex;align-items: stretch;justify-content: center;background-color: white;position: relative;}#sk-container-id-2 div.sk-item::before, #sk-container-id-2 div.sk-parallel-item::before {content: \"\";position: absolute;border-left: 1px solid gray;box-sizing: border-box;top: 0;bottom: 0;left: 50%;z-index: -1;}#sk-container-id-2 div.sk-parallel-item {display: flex;flex-direction: column;z-index: 1;position: relative;background-color: white;}#sk-container-id-2 div.sk-parallel-item:first-child::after {align-self: flex-end;width: 50%;}#sk-container-id-2 div.sk-parallel-item:last-child::after {align-self: flex-start;width: 50%;}#sk-container-id-2 div.sk-parallel-item:only-child::after {width: 0;}#sk-container-id-2 div.sk-dashed-wrapped {border: 1px dashed gray;margin: 0 0.4em 0.5em 0.4em;box-sizing: border-box;padding-bottom: 0.4em;background-color: white;}#sk-container-id-2 div.sk-label label {font-family: monospace;font-weight: bold;display: inline-block;line-height: 1.2em;}#sk-container-id-2 div.sk-label-container {text-align: center;}#sk-container-id-2 div.sk-container {/* jupyter's `normalize.less` sets `[hidden] { display: none; }` but bootstrap.min.css set `[hidden] { display: none !important; }` so we also need the `!important` here to be able to override the default hidden behavior on the sphinx rendered scikit-learn.org. See: https://github.com/scikit-learn/scikit-learn/issues/21755 */display: inline-block !important;position: relative;}#sk-container-id-2 div.sk-text-repr-fallback {display: none;}</style><div id=\"sk-container-id-2\" class=\"sk-top-container\"><div class=\"sk-text-repr-fallback\"><pre>GridSearchCV(cv=5, estimator=DecisionTreeRegressor(random_state=50), n_jobs=-1,\n",
       "             param_grid={&#x27;max_depth&#x27;: [5, 10, 20],\n",
       "                         &#x27;min_samples_leaf&#x27;: [1, 2, 4],\n",
       "                         &#x27;min_samples_split&#x27;: [2, 5, 10]},\n",
       "             scoring=&#x27;neg_mean_squared_error&#x27;, verbose=10)</pre><b>In a Jupyter environment, please rerun this cell to show the HTML representation or trust the notebook. <br />On GitHub, the HTML representation is unable to render, please try loading this page with nbviewer.org.</b></div><div class=\"sk-container\" hidden><div class=\"sk-item sk-dashed-wrapped\"><div class=\"sk-label-container\"><div class=\"sk-label sk-toggleable\"><input class=\"sk-toggleable__control sk-hidden--visually\" id=\"sk-estimator-id-4\" type=\"checkbox\" ><label for=\"sk-estimator-id-4\" class=\"sk-toggleable__label sk-toggleable__label-arrow\">GridSearchCV</label><div class=\"sk-toggleable__content\"><pre>GridSearchCV(cv=5, estimator=DecisionTreeRegressor(random_state=50), n_jobs=-1,\n",
       "             param_grid={&#x27;max_depth&#x27;: [5, 10, 20],\n",
       "                         &#x27;min_samples_leaf&#x27;: [1, 2, 4],\n",
       "                         &#x27;min_samples_split&#x27;: [2, 5, 10]},\n",
       "             scoring=&#x27;neg_mean_squared_error&#x27;, verbose=10)</pre></div></div></div><div class=\"sk-parallel\"><div class=\"sk-parallel-item\"><div class=\"sk-item\"><div class=\"sk-label-container\"><div class=\"sk-label sk-toggleable\"><input class=\"sk-toggleable__control sk-hidden--visually\" id=\"sk-estimator-id-5\" type=\"checkbox\" ><label for=\"sk-estimator-id-5\" class=\"sk-toggleable__label sk-toggleable__label-arrow\">estimator: DecisionTreeRegressor</label><div class=\"sk-toggleable__content\"><pre>DecisionTreeRegressor(random_state=50)</pre></div></div></div><div class=\"sk-serial\"><div class=\"sk-item\"><div class=\"sk-estimator sk-toggleable\"><input class=\"sk-toggleable__control sk-hidden--visually\" id=\"sk-estimator-id-6\" type=\"checkbox\" ><label for=\"sk-estimator-id-6\" class=\"sk-toggleable__label sk-toggleable__label-arrow\">DecisionTreeRegressor</label><div class=\"sk-toggleable__content\"><pre>DecisionTreeRegressor(random_state=50)</pre></div></div></div></div></div></div></div></div></div></div>"
      ],
      "text/plain": [
       "GridSearchCV(cv=5, estimator=DecisionTreeRegressor(random_state=50), n_jobs=-1,\n",
       "             param_grid={'max_depth': [5, 10, 20],\n",
       "                         'min_samples_leaf': [1, 2, 4],\n",
       "                         'min_samples_split': [2, 5, 10]},\n",
       "             scoring='neg_mean_squared_error', verbose=10)"
      ]
     },
     "execution_count": 24,
     "metadata": {},
     "output_type": "execute_result"
    }
   ],
   "source": [
    "grid_search.fit(x_train, y_train)"
   ]
  },
  {
   "cell_type": "code",
   "execution_count": 25,
   "id": "DeCFXa_foqTu",
   "metadata": {
    "colab": {
     "base_uri": "https://localhost:8080/"
    },
    "id": "DeCFXa_foqTu",
    "outputId": "a893a96c-76c1-4d63-fa24-c94f9e43efb3"
   },
   "outputs": [
    {
     "name": "stdout",
     "output_type": "stream",
     "text": [
      "Best hyperparameters: {'max_depth': 20, 'min_samples_leaf': 1, 'min_samples_split': 5}\n",
      "Best cross-validation score (RMSE): 42066892.27\n"
     ]
    }
   ],
   "source": [
    "# Print the best hyperparameters found by the grid search and RMSE\n",
    "print(\"Best hyperparameters: {}\".format(grid_search.best_params_))\n",
    "print(\"Best cross-validation score (RMSE): {:.2f}\".format(np.sqrt(-grid_search.best_score_)))"
   ]
  },
  {
   "cell_type": "code",
   "execution_count": 26,
   "id": "IqY-6pN5mZMT",
   "metadata": {
    "colab": {
     "base_uri": "https://localhost:8080/"
    },
    "id": "IqY-6pN5mZMT",
    "outputId": "d44e3d28-5c69-44cf-de9e-f4b9c3546449"
   },
   "outputs": [
    {
     "name": "stdout",
     "output_type": "stream",
     "text": [
      "Mean squared error: 892334010315882.38\n",
      "Absolute Error: 10184829.52\n",
      "Root Mean Squared Error: 29871960.27\n",
      "R2 score: 0.78\n"
     ]
    }
   ],
   "source": [
    "# Show test set metrics\n",
    "best_tree = grid_search.best_estimator_\n",
    "y_pred_tree = best_tree.predict(x_val)\n",
    "\n",
    "mse = mean_squared_error(y_val, y_pred_tree)\n",
    "print(\"Mean squared error: {:.2f}\".format(mse))\n",
    "mae = mean_absolute_error(y_val, y_pred_tree)\n",
    "print(\"Absolute Error: {:.2f}\".format(mae))\n",
    "rmse = np.sqrt(mean_squared_error(y_val, y_pred_tree))\n",
    "print(\"Root Mean Squared Error: {:.2f}\".format(rmse))\n",
    "r2 = r2_score(y_val, y_pred_tree)\n",
    "print(\"R2 score: {:.2f}\".format(r2))"
   ]
  },
  {
   "cell_type": "markdown",
   "id": "a633b7c0",
   "metadata": {
    "id": "a633b7c0"
   },
   "source": [
    "### Random Forest Regression\n"
   ]
  },
  {
   "cell_type": "markdown",
   "id": "IrzrJD8oaL8p",
   "metadata": {
    "id": "IrzrJD8oaL8p"
   },
   "source": [
    "Previously, we used a decision tree for making predictions of the target variable (funding_total_usd). However, decision trees are more prone to overfitting, which is a common issue with decision trees. This can often lead to poor performance or inaccurate predictions due to its poor generalization ability. To avoid this, we will be using Random Forest, which is an ensemble method that uses a combination of multiple decision trees to make predictions. \n",
    "\n",
    "### Parameter Tuning Random Forest\n",
    "Due to the large dataset, we limited the GridSearch for the Random Forest cross validation. Although the gridsearch indicated a 'max_depth' of 7, we have decidede to tune it down to 5 to control the depth of the trees, as a, increased depth could result in overfitting. Gridsearch indicated that 'n_estimators' would be best set at 150. However, considering after manually tuning the parameters, we decided that 300 would be the best value for the 'n_estimator' parameter. Higher value for 'n_estimator' parameter requires longer computational times, which also affected the cross validation run time.\n",
    "\n",
    "### XGBoost\n",
    "Another popular ensemble method is gradient boosting. We will be using XGBoost (Extreme Gradient Boosting), which works similarly to Random Forest. XGBoost works by building a series of decision trees, where each tree is built to correct the errors of the previous tree. The reason for the using XGBoost is its speed and scalability. This is especially noticed when using the same parameters from the Random Forest. Morever, it has yielded a far higher R2 score of 0.82, with n_estimators = 300. However, when doing the cross-validation, 2 fits out of 5 failed. Therefore, the XBGoost might not be reliable for this dataset. "
   ]
  },
  {
   "cell_type": "code",
   "execution_count": 27,
   "id": "l85eZh8oSi3C",
   "metadata": {
    "id": "l85eZh8oSi3C"
   },
   "outputs": [
    {
     "data": {
      "text/html": [
       "<style>#sk-container-id-3 {color: black;background-color: white;}#sk-container-id-3 pre{padding: 0;}#sk-container-id-3 div.sk-toggleable {background-color: white;}#sk-container-id-3 label.sk-toggleable__label {cursor: pointer;display: block;width: 100%;margin-bottom: 0;padding: 0.3em;box-sizing: border-box;text-align: center;}#sk-container-id-3 label.sk-toggleable__label-arrow:before {content: \"▸\";float: left;margin-right: 0.25em;color: #696969;}#sk-container-id-3 label.sk-toggleable__label-arrow:hover:before {color: black;}#sk-container-id-3 div.sk-estimator:hover label.sk-toggleable__label-arrow:before {color: black;}#sk-container-id-3 div.sk-toggleable__content {max-height: 0;max-width: 0;overflow: hidden;text-align: left;background-color: #f0f8ff;}#sk-container-id-3 div.sk-toggleable__content pre {margin: 0.2em;color: black;border-radius: 0.25em;background-color: #f0f8ff;}#sk-container-id-3 input.sk-toggleable__control:checked~div.sk-toggleable__content {max-height: 200px;max-width: 100%;overflow: auto;}#sk-container-id-3 input.sk-toggleable__control:checked~label.sk-toggleable__label-arrow:before {content: \"▾\";}#sk-container-id-3 div.sk-estimator input.sk-toggleable__control:checked~label.sk-toggleable__label {background-color: #d4ebff;}#sk-container-id-3 div.sk-label input.sk-toggleable__control:checked~label.sk-toggleable__label {background-color: #d4ebff;}#sk-container-id-3 input.sk-hidden--visually {border: 0;clip: rect(1px 1px 1px 1px);clip: rect(1px, 1px, 1px, 1px);height: 1px;margin: -1px;overflow: hidden;padding: 0;position: absolute;width: 1px;}#sk-container-id-3 div.sk-estimator {font-family: monospace;background-color: #f0f8ff;border: 1px dotted black;border-radius: 0.25em;box-sizing: border-box;margin-bottom: 0.5em;}#sk-container-id-3 div.sk-estimator:hover {background-color: #d4ebff;}#sk-container-id-3 div.sk-parallel-item::after {content: \"\";width: 100%;border-bottom: 1px solid gray;flex-grow: 1;}#sk-container-id-3 div.sk-label:hover label.sk-toggleable__label {background-color: #d4ebff;}#sk-container-id-3 div.sk-serial::before {content: \"\";position: absolute;border-left: 1px solid gray;box-sizing: border-box;top: 0;bottom: 0;left: 50%;z-index: 0;}#sk-container-id-3 div.sk-serial {display: flex;flex-direction: column;align-items: center;background-color: white;padding-right: 0.2em;padding-left: 0.2em;position: relative;}#sk-container-id-3 div.sk-item {position: relative;z-index: 1;}#sk-container-id-3 div.sk-parallel {display: flex;align-items: stretch;justify-content: center;background-color: white;position: relative;}#sk-container-id-3 div.sk-item::before, #sk-container-id-3 div.sk-parallel-item::before {content: \"\";position: absolute;border-left: 1px solid gray;box-sizing: border-box;top: 0;bottom: 0;left: 50%;z-index: -1;}#sk-container-id-3 div.sk-parallel-item {display: flex;flex-direction: column;z-index: 1;position: relative;background-color: white;}#sk-container-id-3 div.sk-parallel-item:first-child::after {align-self: flex-end;width: 50%;}#sk-container-id-3 div.sk-parallel-item:last-child::after {align-self: flex-start;width: 50%;}#sk-container-id-3 div.sk-parallel-item:only-child::after {width: 0;}#sk-container-id-3 div.sk-dashed-wrapped {border: 1px dashed gray;margin: 0 0.4em 0.5em 0.4em;box-sizing: border-box;padding-bottom: 0.4em;background-color: white;}#sk-container-id-3 div.sk-label label {font-family: monospace;font-weight: bold;display: inline-block;line-height: 1.2em;}#sk-container-id-3 div.sk-label-container {text-align: center;}#sk-container-id-3 div.sk-container {/* jupyter's `normalize.less` sets `[hidden] { display: none; }` but bootstrap.min.css set `[hidden] { display: none !important; }` so we also need the `!important` here to be able to override the default hidden behavior on the sphinx rendered scikit-learn.org. See: https://github.com/scikit-learn/scikit-learn/issues/21755 */display: inline-block !important;position: relative;}#sk-container-id-3 div.sk-text-repr-fallback {display: none;}</style><div id=\"sk-container-id-3\" class=\"sk-top-container\"><div class=\"sk-text-repr-fallback\"><pre>RandomForestRegressor(max_depth=5, n_estimators=300, n_jobs=-1)</pre><b>In a Jupyter environment, please rerun this cell to show the HTML representation or trust the notebook. <br />On GitHub, the HTML representation is unable to render, please try loading this page with nbviewer.org.</b></div><div class=\"sk-container\" hidden><div class=\"sk-item\"><div class=\"sk-estimator sk-toggleable\"><input class=\"sk-toggleable__control sk-hidden--visually\" id=\"sk-estimator-id-7\" type=\"checkbox\" checked><label for=\"sk-estimator-id-7\" class=\"sk-toggleable__label sk-toggleable__label-arrow\">RandomForestRegressor</label><div class=\"sk-toggleable__content\"><pre>RandomForestRegressor(max_depth=5, n_estimators=300, n_jobs=-1)</pre></div></div></div></div></div>"
      ],
      "text/plain": [
       "RandomForestRegressor(max_depth=5, n_estimators=300, n_jobs=-1)"
      ]
     },
     "execution_count": 27,
     "metadata": {},
     "output_type": "execute_result"
    }
   ],
   "source": [
    "# Random Forest Model\n",
    "rf_final = RandomForestRegressor(n_estimators=300, max_depth=5, n_jobs=-1)\n",
    "rf_final.fit(x_train, y_train)"
   ]
  },
  {
   "cell_type": "code",
   "execution_count": 28,
   "id": "537yqC9VS6pv",
   "metadata": {
    "id": "537yqC9VS6pv"
   },
   "outputs": [
    {
     "data": {
      "text/plain": [
       "0.3883112318528873"
      ]
     },
     "execution_count": 28,
     "metadata": {},
     "output_type": "execute_result"
    }
   ],
   "source": [
    "# Check the R2-test score\n",
    "rf_final.score(x_val, y_val)"
   ]
  },
  {
   "cell_type": "code",
   "execution_count": 29,
   "id": "NoiIjk_XUN8_",
   "metadata": {
    "id": "NoiIjk_XUN8_"
   },
   "outputs": [],
   "source": [
    "# Cross-validation 5-fold\n",
    "rfscores = cross_val_score(rf_final, x_train, y_train, cv=5, n_jobs = -1)"
   ]
  },
  {
   "cell_type": "code",
   "execution_count": 30,
   "id": "meS9NFQmUWMI",
   "metadata": {
    "id": "meS9NFQmUWMI"
   },
   "outputs": [
    {
     "data": {
      "text/plain": [
       "0.37572408827893927"
      ]
     },
     "execution_count": 30,
     "metadata": {},
     "output_type": "execute_result"
    }
   ],
   "source": [
    "# Cross validated mean score\n",
    "rfscores.mean()"
   ]
  },
  {
   "cell_type": "code",
   "execution_count": 31,
   "id": "IAcRkEJqUcR2",
   "metadata": {
    "id": "IAcRkEJqUcR2"
   },
   "outputs": [],
   "source": [
    "y_pred_rf_final = rf_final.predict(x_val)"
   ]
  },
  {
   "cell_type": "code",
   "execution_count": 32,
   "id": "hAQWQlThUlHL",
   "metadata": {
    "id": "hAQWQlThUlHL"
   },
   "outputs": [
    {
     "name": "stdout",
     "output_type": "stream",
     "text": [
      "Mean Squared Error (MSE): 2486599278833580.50\n",
      "Absolute error (MAE): 14561288.22\n",
      "Root Mean Squared Error: 49865812.73\n",
      "R2 Score: 0.39\n"
     ]
    }
   ],
   "source": [
    "# Calculate the MSE, MAE, RMSE and R2\n",
    "mse_rf_final = mean_squared_error(y_val, y_pred_rf_final)\n",
    "print(\"Mean Squared Error (MSE): {:.2f}\".format(mse_rf_final))\n",
    "mae_rf_final = mean_absolute_error(y_val, y_pred_rf_final)\n",
    "print(\"Absolute error (MAE): {:.2f}\".format(mae_rf_final))\n",
    "rmse_rf_final = np.sqrt(mean_squared_error(y_val, y_pred_rf_final))\n",
    "print(\"Root Mean Squared Error: {:.2f}\".format(rmse_rf_final))\n",
    "r2_rf_final = r2_score(y_val, y_pred_rf_final)\n",
    "print(\"R2 Score: {:.2f}\".format(r2_rf_final))"
   ]
  },
  {
   "cell_type": "markdown",
   "id": "YoMj1nvdVXSE",
   "metadata": {
    "id": "YoMj1nvdVXSE"
   },
   "source": [
    "Using Gridsearch for RandomForest"
   ]
  },
  {
   "cell_type": "code",
   "execution_count": 33,
   "id": "xiXGP49_-n7K",
   "metadata": {
    "id": "xiXGP49_-n7K"
   },
   "outputs": [],
   "source": [
    "# First hyperparameter tuning with basic grid\n",
    "\n",
    "# Define the random forest regressor\n",
    "rf = RandomForestRegressor()\n",
    "\n",
    "# Define the hyperparameters to search\n",
    "param_grid_rf = {\n",
    "    'n_estimators': [50, 100, 150],\n",
    "    'max_depth': [2, 5, 7],\n",
    "}\n",
    "\n",
    "# Perform grid search with 5-fold cross-validation\n",
    "grid_search_rf = GridSearchCV(rf, param_grid_rf, cv = 5, scoring='neg_mean_squared_error', verbose=10, n_jobs = -1)"
   ]
  },
  {
   "cell_type": "code",
   "execution_count": 34,
   "id": "pFe-MiOt-r3L",
   "metadata": {
    "id": "pFe-MiOt-r3L"
   },
   "outputs": [
    {
     "name": "stdout",
     "output_type": "stream",
     "text": [
      "Fitting 5 folds for each of 9 candidates, totalling 45 fits\n"
     ]
    },
    {
     "data": {
      "text/html": [
       "<style>#sk-container-id-4 {color: black;background-color: white;}#sk-container-id-4 pre{padding: 0;}#sk-container-id-4 div.sk-toggleable {background-color: white;}#sk-container-id-4 label.sk-toggleable__label {cursor: pointer;display: block;width: 100%;margin-bottom: 0;padding: 0.3em;box-sizing: border-box;text-align: center;}#sk-container-id-4 label.sk-toggleable__label-arrow:before {content: \"▸\";float: left;margin-right: 0.25em;color: #696969;}#sk-container-id-4 label.sk-toggleable__label-arrow:hover:before {color: black;}#sk-container-id-4 div.sk-estimator:hover label.sk-toggleable__label-arrow:before {color: black;}#sk-container-id-4 div.sk-toggleable__content {max-height: 0;max-width: 0;overflow: hidden;text-align: left;background-color: #f0f8ff;}#sk-container-id-4 div.sk-toggleable__content pre {margin: 0.2em;color: black;border-radius: 0.25em;background-color: #f0f8ff;}#sk-container-id-4 input.sk-toggleable__control:checked~div.sk-toggleable__content {max-height: 200px;max-width: 100%;overflow: auto;}#sk-container-id-4 input.sk-toggleable__control:checked~label.sk-toggleable__label-arrow:before {content: \"▾\";}#sk-container-id-4 div.sk-estimator input.sk-toggleable__control:checked~label.sk-toggleable__label {background-color: #d4ebff;}#sk-container-id-4 div.sk-label input.sk-toggleable__control:checked~label.sk-toggleable__label {background-color: #d4ebff;}#sk-container-id-4 input.sk-hidden--visually {border: 0;clip: rect(1px 1px 1px 1px);clip: rect(1px, 1px, 1px, 1px);height: 1px;margin: -1px;overflow: hidden;padding: 0;position: absolute;width: 1px;}#sk-container-id-4 div.sk-estimator {font-family: monospace;background-color: #f0f8ff;border: 1px dotted black;border-radius: 0.25em;box-sizing: border-box;margin-bottom: 0.5em;}#sk-container-id-4 div.sk-estimator:hover {background-color: #d4ebff;}#sk-container-id-4 div.sk-parallel-item::after {content: \"\";width: 100%;border-bottom: 1px solid gray;flex-grow: 1;}#sk-container-id-4 div.sk-label:hover label.sk-toggleable__label {background-color: #d4ebff;}#sk-container-id-4 div.sk-serial::before {content: \"\";position: absolute;border-left: 1px solid gray;box-sizing: border-box;top: 0;bottom: 0;left: 50%;z-index: 0;}#sk-container-id-4 div.sk-serial {display: flex;flex-direction: column;align-items: center;background-color: white;padding-right: 0.2em;padding-left: 0.2em;position: relative;}#sk-container-id-4 div.sk-item {position: relative;z-index: 1;}#sk-container-id-4 div.sk-parallel {display: flex;align-items: stretch;justify-content: center;background-color: white;position: relative;}#sk-container-id-4 div.sk-item::before, #sk-container-id-4 div.sk-parallel-item::before {content: \"\";position: absolute;border-left: 1px solid gray;box-sizing: border-box;top: 0;bottom: 0;left: 50%;z-index: -1;}#sk-container-id-4 div.sk-parallel-item {display: flex;flex-direction: column;z-index: 1;position: relative;background-color: white;}#sk-container-id-4 div.sk-parallel-item:first-child::after {align-self: flex-end;width: 50%;}#sk-container-id-4 div.sk-parallel-item:last-child::after {align-self: flex-start;width: 50%;}#sk-container-id-4 div.sk-parallel-item:only-child::after {width: 0;}#sk-container-id-4 div.sk-dashed-wrapped {border: 1px dashed gray;margin: 0 0.4em 0.5em 0.4em;box-sizing: border-box;padding-bottom: 0.4em;background-color: white;}#sk-container-id-4 div.sk-label label {font-family: monospace;font-weight: bold;display: inline-block;line-height: 1.2em;}#sk-container-id-4 div.sk-label-container {text-align: center;}#sk-container-id-4 div.sk-container {/* jupyter's `normalize.less` sets `[hidden] { display: none; }` but bootstrap.min.css set `[hidden] { display: none !important; }` so we also need the `!important` here to be able to override the default hidden behavior on the sphinx rendered scikit-learn.org. See: https://github.com/scikit-learn/scikit-learn/issues/21755 */display: inline-block !important;position: relative;}#sk-container-id-4 div.sk-text-repr-fallback {display: none;}</style><div id=\"sk-container-id-4\" class=\"sk-top-container\"><div class=\"sk-text-repr-fallback\"><pre>GridSearchCV(cv=5, estimator=RandomForestRegressor(), n_jobs=-1,\n",
       "             param_grid={&#x27;max_depth&#x27;: [2, 5, 7],\n",
       "                         &#x27;n_estimators&#x27;: [50, 100, 150]},\n",
       "             scoring=&#x27;neg_mean_squared_error&#x27;, verbose=10)</pre><b>In a Jupyter environment, please rerun this cell to show the HTML representation or trust the notebook. <br />On GitHub, the HTML representation is unable to render, please try loading this page with nbviewer.org.</b></div><div class=\"sk-container\" hidden><div class=\"sk-item sk-dashed-wrapped\"><div class=\"sk-label-container\"><div class=\"sk-label sk-toggleable\"><input class=\"sk-toggleable__control sk-hidden--visually\" id=\"sk-estimator-id-8\" type=\"checkbox\" ><label for=\"sk-estimator-id-8\" class=\"sk-toggleable__label sk-toggleable__label-arrow\">GridSearchCV</label><div class=\"sk-toggleable__content\"><pre>GridSearchCV(cv=5, estimator=RandomForestRegressor(), n_jobs=-1,\n",
       "             param_grid={&#x27;max_depth&#x27;: [2, 5, 7],\n",
       "                         &#x27;n_estimators&#x27;: [50, 100, 150]},\n",
       "             scoring=&#x27;neg_mean_squared_error&#x27;, verbose=10)</pre></div></div></div><div class=\"sk-parallel\"><div class=\"sk-parallel-item\"><div class=\"sk-item\"><div class=\"sk-label-container\"><div class=\"sk-label sk-toggleable\"><input class=\"sk-toggleable__control sk-hidden--visually\" id=\"sk-estimator-id-9\" type=\"checkbox\" ><label for=\"sk-estimator-id-9\" class=\"sk-toggleable__label sk-toggleable__label-arrow\">estimator: RandomForestRegressor</label><div class=\"sk-toggleable__content\"><pre>RandomForestRegressor()</pre></div></div></div><div class=\"sk-serial\"><div class=\"sk-item\"><div class=\"sk-estimator sk-toggleable\"><input class=\"sk-toggleable__control sk-hidden--visually\" id=\"sk-estimator-id-10\" type=\"checkbox\" ><label for=\"sk-estimator-id-10\" class=\"sk-toggleable__label sk-toggleable__label-arrow\">RandomForestRegressor</label><div class=\"sk-toggleable__content\"><pre>RandomForestRegressor()</pre></div></div></div></div></div></div></div></div></div></div>"
      ],
      "text/plain": [
       "GridSearchCV(cv=5, estimator=RandomForestRegressor(), n_jobs=-1,\n",
       "             param_grid={'max_depth': [2, 5, 7],\n",
       "                         'n_estimators': [50, 100, 150]},\n",
       "             scoring='neg_mean_squared_error', verbose=10)"
      ]
     },
     "execution_count": 34,
     "metadata": {},
     "output_type": "execute_result"
    }
   ],
   "source": [
    "grid_search_rf.fit(x_train, y_train)"
   ]
  },
  {
   "cell_type": "code",
   "execution_count": 35,
   "id": "TPVwdYgX-v2v",
   "metadata": {
    "id": "TPVwdYgX-v2v"
   },
   "outputs": [
    {
     "name": "stdout",
     "output_type": "stream",
     "text": [
      "Best parameters: {'max_depth': 7, 'n_estimators': 150}\n",
      "Best cross-validation score (RMSE): 53533653.51\n"
     ]
    }
   ],
   "source": [
    "# Show mean squared error of best estimator model\n",
    "print(\"Best parameters: {}\".format(grid_search_rf.best_params_))\n",
    "print(\"Best cross-validation score (RMSE): {:.2f}\".format(np.sqrt(-grid_search_rf.best_score_)))"
   ]
  },
  {
   "cell_type": "code",
   "execution_count": 36,
   "id": "RBB5Jplw-0YM",
   "metadata": {
    "id": "RBB5Jplw-0YM"
   },
   "outputs": [
    {
     "name": "stdout",
     "output_type": "stream",
     "text": [
      "Mean Squared Error (MSE): 2112291589190658.50\n",
      "Absolute error (MAE): 13872170.65\n",
      "Root Mean Squared Error: 45959673.51\n",
      "R2 Score: 0.48\n"
     ]
    }
   ],
   "source": [
    "# Show test set metrics\n",
    "best_model_rf = grid_search_rf.best_estimator_\n",
    "y_pred_rf = best_model_rf.predict(x_val)\n",
    "\n",
    "# Calculate the MSE, MAE, RMSE and R2\n",
    "mse_rf = mean_squared_error(y_val, y_pred_rf)\n",
    "print(\"Mean Squared Error (MSE): {:.2f}\".format(mse_rf))\n",
    "mae_rf = mean_absolute_error(y_val, y_pred_rf)\n",
    "print(\"Absolute error (MAE): {:.2f}\".format(mae_rf))\n",
    "rmse_rf = np.sqrt(mean_squared_error(y_val, y_pred_rf))\n",
    "print(\"Root Mean Squared Error: {:.2f}\".format(rmse_rf))\n",
    "r2_rf = r2_score(y_val, y_pred_rf)\n",
    "print(\"R2 Score: {:.2f}\".format(r2_rf))"
   ]
  },
  {
   "cell_type": "markdown",
   "id": "tkliP29kWNRW",
   "metadata": {
    "id": "tkliP29kWNRW"
   },
   "source": [
    "### XGBoost"
   ]
  },
  {
   "cell_type": "code",
   "execution_count": 37,
   "id": "AhsePRWLWEh_",
   "metadata": {
    "colab": {
     "base_uri": "https://localhost:8080/",
     "height": 235
    },
    "id": "AhsePRWLWEh_",
    "outputId": "6e66731f-d5fe-4c5c-cf6a-2eadcd20b695"
   },
   "outputs": [
    {
     "name": "stdout",
     "output_type": "stream",
     "text": [
      "0.785608511491954\n",
      "Mean Squared Error (MSE): 1456768590322527.50\n",
      "Absolute error (MAE): 12210916.23\n",
      "Root Mean Squared Error: 38167638.00\n",
      "R2 Score: 0.64\n"
     ]
    }
   ],
   "source": [
    "xgb_model = xgb.XGBRegressor(objective='reg:squarederror', n_estimators=300, max_depth=5, learning_rate=0.1, subsample=0.5, colsample_bytree=0.5, n_jobs=-1)\n",
    "xgb_model.fit(x_train, y_train)\n",
    "xgb_score = xgb_model.score(x_train, y_train)\n",
    "print(xgb_score)\n",
    "\n",
    "y_pred_XGB = xgb_model.predict(x_val)\n",
    "y_pred_XGB\n",
    "\n",
    "# Calculate the MSE, MAE, RMSE and R2\n",
    "mse_XGB = mean_squared_error(y_val, y_pred_XGB)\n",
    "print(\"Mean Squared Error (MSE): {:.2f}\".format(mse_XGB))\n",
    "mae_XGB = mean_absolute_error(y_val, y_pred_XGB)\n",
    "print(\"Absolute error (MAE): {:.2f}\".format(mae_XGB))\n",
    "rmse_XGB = np.sqrt(mean_squared_error(y_val, y_pred_XGB))\n",
    "print(\"Root Mean Squared Error: {:.2f}\".format(rmse_XGB))\n",
    "r2_XGB = r2_score(y_val, y_pred_XGB)\n",
    "print(\"R2 Score: {:.2f}\".format(r2_XGB))"
   ]
  },
  {
   "cell_type": "markdown",
   "id": "Yqt-E7kdVoB5",
   "metadata": {
    "id": "Yqt-E7kdVoB5"
   },
   "source": [
    "### Random Forest Regression and XGBoost Comparison"
   ]
  },
  {
   "cell_type": "code",
   "execution_count": 38,
   "id": "e304d381",
   "metadata": {
    "id": "e304d381",
    "outputId": "34542deb-8403-4914-ab63-679af0ce7ec2"
   },
   "outputs": [
    {
     "data": {
      "text/html": [
       "<style>#sk-container-id-5 {color: black;background-color: white;}#sk-container-id-5 pre{padding: 0;}#sk-container-id-5 div.sk-toggleable {background-color: white;}#sk-container-id-5 label.sk-toggleable__label {cursor: pointer;display: block;width: 100%;margin-bottom: 0;padding: 0.3em;box-sizing: border-box;text-align: center;}#sk-container-id-5 label.sk-toggleable__label-arrow:before {content: \"▸\";float: left;margin-right: 0.25em;color: #696969;}#sk-container-id-5 label.sk-toggleable__label-arrow:hover:before {color: black;}#sk-container-id-5 div.sk-estimator:hover label.sk-toggleable__label-arrow:before {color: black;}#sk-container-id-5 div.sk-toggleable__content {max-height: 0;max-width: 0;overflow: hidden;text-align: left;background-color: #f0f8ff;}#sk-container-id-5 div.sk-toggleable__content pre {margin: 0.2em;color: black;border-radius: 0.25em;background-color: #f0f8ff;}#sk-container-id-5 input.sk-toggleable__control:checked~div.sk-toggleable__content {max-height: 200px;max-width: 100%;overflow: auto;}#sk-container-id-5 input.sk-toggleable__control:checked~label.sk-toggleable__label-arrow:before {content: \"▾\";}#sk-container-id-5 div.sk-estimator input.sk-toggleable__control:checked~label.sk-toggleable__label {background-color: #d4ebff;}#sk-container-id-5 div.sk-label input.sk-toggleable__control:checked~label.sk-toggleable__label {background-color: #d4ebff;}#sk-container-id-5 input.sk-hidden--visually {border: 0;clip: rect(1px 1px 1px 1px);clip: rect(1px, 1px, 1px, 1px);height: 1px;margin: -1px;overflow: hidden;padding: 0;position: absolute;width: 1px;}#sk-container-id-5 div.sk-estimator {font-family: monospace;background-color: #f0f8ff;border: 1px dotted black;border-radius: 0.25em;box-sizing: border-box;margin-bottom: 0.5em;}#sk-container-id-5 div.sk-estimator:hover {background-color: #d4ebff;}#sk-container-id-5 div.sk-parallel-item::after {content: \"\";width: 100%;border-bottom: 1px solid gray;flex-grow: 1;}#sk-container-id-5 div.sk-label:hover label.sk-toggleable__label {background-color: #d4ebff;}#sk-container-id-5 div.sk-serial::before {content: \"\";position: absolute;border-left: 1px solid gray;box-sizing: border-box;top: 0;bottom: 0;left: 50%;z-index: 0;}#sk-container-id-5 div.sk-serial {display: flex;flex-direction: column;align-items: center;background-color: white;padding-right: 0.2em;padding-left: 0.2em;position: relative;}#sk-container-id-5 div.sk-item {position: relative;z-index: 1;}#sk-container-id-5 div.sk-parallel {display: flex;align-items: stretch;justify-content: center;background-color: white;position: relative;}#sk-container-id-5 div.sk-item::before, #sk-container-id-5 div.sk-parallel-item::before {content: \"\";position: absolute;border-left: 1px solid gray;box-sizing: border-box;top: 0;bottom: 0;left: 50%;z-index: -1;}#sk-container-id-5 div.sk-parallel-item {display: flex;flex-direction: column;z-index: 1;position: relative;background-color: white;}#sk-container-id-5 div.sk-parallel-item:first-child::after {align-self: flex-end;width: 50%;}#sk-container-id-5 div.sk-parallel-item:last-child::after {align-self: flex-start;width: 50%;}#sk-container-id-5 div.sk-parallel-item:only-child::after {width: 0;}#sk-container-id-5 div.sk-dashed-wrapped {border: 1px dashed gray;margin: 0 0.4em 0.5em 0.4em;box-sizing: border-box;padding-bottom: 0.4em;background-color: white;}#sk-container-id-5 div.sk-label label {font-family: monospace;font-weight: bold;display: inline-block;line-height: 1.2em;}#sk-container-id-5 div.sk-label-container {text-align: center;}#sk-container-id-5 div.sk-container {/* jupyter's `normalize.less` sets `[hidden] { display: none; }` but bootstrap.min.css set `[hidden] { display: none !important; }` so we also need the `!important` here to be able to override the default hidden behavior on the sphinx rendered scikit-learn.org. See: https://github.com/scikit-learn/scikit-learn/issues/21755 */display: inline-block !important;position: relative;}#sk-container-id-5 div.sk-text-repr-fallback {display: none;}</style><div id=\"sk-container-id-5\" class=\"sk-top-container\"><div class=\"sk-text-repr-fallback\"><pre>RandomForestRegressor(max_depth=5, n_estimators=20, n_jobs=-1, random_state=50)</pre><b>In a Jupyter environment, please rerun this cell to show the HTML representation or trust the notebook. <br />On GitHub, the HTML representation is unable to render, please try loading this page with nbviewer.org.</b></div><div class=\"sk-container\" hidden><div class=\"sk-item\"><div class=\"sk-estimator sk-toggleable\"><input class=\"sk-toggleable__control sk-hidden--visually\" id=\"sk-estimator-id-11\" type=\"checkbox\" checked><label for=\"sk-estimator-id-11\" class=\"sk-toggleable__label sk-toggleable__label-arrow\">RandomForestRegressor</label><div class=\"sk-toggleable__content\"><pre>RandomForestRegressor(max_depth=5, n_estimators=20, n_jobs=-1, random_state=50)</pre></div></div></div></div></div>"
      ],
      "text/plain": [
       "RandomForestRegressor(max_depth=5, n_estimators=20, n_jobs=-1, random_state=50)"
      ]
     },
     "execution_count": 38,
     "metadata": {},
     "output_type": "execute_result"
    }
   ],
   "source": [
    "# Random Forest\n",
    "from sklearn.ensemble import RandomForestRegressor\n",
    "\n",
    "# create a Random Forest Regressor with 20 trees and a max depth of 5\n",
    "rf_test = RandomForestRegressor(n_estimators=20, max_depth=5, random_state=50, n_jobs=-1)\n",
    "\n",
    "# fit the model on the training data\n",
    "rf_test.fit(x_train, y_train)"
   ]
  },
  {
   "cell_type": "code",
   "execution_count": 39,
   "id": "20167a9d",
   "metadata": {
    "id": "20167a9d",
    "outputId": "a54a1f3b-24ea-4e83-bc1d-c830fed79c74"
   },
   "outputs": [
    {
     "data": {
      "text/plain": [
       "array([0.34212503, 0.18998605, 0.4330645 , 0.31153745, 0.52921891])"
      ]
     },
     "execution_count": 39,
     "metadata": {},
     "output_type": "execute_result"
    }
   ],
   "source": [
    "from sklearn.model_selection import cross_val_score\n",
    "scores_RF = cross_val_score(rf_test, x_train, y_train, cv=5, n_jobs=-1) \n",
    "scores_RF"
   ]
  },
  {
   "cell_type": "code",
   "execution_count": 40,
   "id": "rx6KzfByhaUx",
   "metadata": {
    "id": "rx6KzfByhaUx"
   },
   "outputs": [
    {
     "name": "stdout",
     "output_type": "stream",
     "text": [
      "0.785608511491954\n"
     ]
    }
   ],
   "source": [
    "xgb_test_model = xgb.XGBRegressor(objective='reg:squarederror', n_estimators=100, max_depth=5, learning_rate=0.1, subsample=0.5, colsample_bytree=0.5, n_jobs=-1)\n",
    "xgb_test_model.fit(x_train, y_train)\n",
    "xgb_test_score = xgb_test_model.score(x_train, y_train)\n",
    "print(xgb_score)"
   ]
  },
  {
   "cell_type": "markdown",
   "id": "536fce67",
   "metadata": {
    "id": "536fce67"
   },
   "source": [
    "### Gradient Boosting Model "
   ]
  },
  {
   "cell_type": "markdown",
   "id": "eCbAOtE4LRCY",
   "metadata": {
    "id": "eCbAOtE4LRCY"
   },
   "source": [
    "Since the dataset uses a continuous target variable (funding_total_usd), we made use of the ensemble method Gradient Boost Regressor as the machine learning algorithm for the regression problem. Since it is a boosting algorithm, the core purpose of this model is improving the accuracy based on the errors in the previous models. In the end, it would result in a much more accurate models than simpler methods such as the Decision Tree model.\n",
    "\n",
    "### Parameter Tuning\n",
    "After performing the gridsearch function, we would acquire the best results for the 'learning rate' at 0.5, however since a large learning rate could result into overfitting, we have decided to tune it down a bit and lower the parameter to improve the generalization performance of the model for other test data. Although a learning rate between 0.01 and 0.1 might be ideal, it would ultimately result into an increase in computational time for the model, making it difficult to run. For the 'max_depth' parameter, we have decided to settle down at max_depth = 5 to control the depth of the trees. Just like the learning_rate parameter, the an increase in max_depth could further risk the chances of overfitting, resulting in difficulty of generalization with new test data. Moreover, since increasing the depth of the trees would result in more complexity, additional computational time is required and this would be difficult to achieve especially with a cross-validation of 5-folds.\n",
    "\n",
    "The last parameter tuned for the model is the 'n_estimators', which refer to the amount of decision trees created in the Gradient Boost Regressor. Since the performance starts to drop down after a certain threshold, the risk of overfitting is not quite as big compared to the previous parameters. The biggest risk in this case would be the computational time required to run the code. Running the model for the test score results in the highest R2 score of 0.81 with n_estimators = 1000, however the 5-fold cross-validation mean sits around R2 = 0.68"
   ]
  },
  {
   "cell_type": "code",
   "execution_count": 41,
   "id": "zEkpxArgLj_K",
   "metadata": {
    "id": "zEkpxArgLj_K"
   },
   "outputs": [
    {
     "data": {
      "text/html": [
       "<style>#sk-container-id-6 {color: black;background-color: white;}#sk-container-id-6 pre{padding: 0;}#sk-container-id-6 div.sk-toggleable {background-color: white;}#sk-container-id-6 label.sk-toggleable__label {cursor: pointer;display: block;width: 100%;margin-bottom: 0;padding: 0.3em;box-sizing: border-box;text-align: center;}#sk-container-id-6 label.sk-toggleable__label-arrow:before {content: \"▸\";float: left;margin-right: 0.25em;color: #696969;}#sk-container-id-6 label.sk-toggleable__label-arrow:hover:before {color: black;}#sk-container-id-6 div.sk-estimator:hover label.sk-toggleable__label-arrow:before {color: black;}#sk-container-id-6 div.sk-toggleable__content {max-height: 0;max-width: 0;overflow: hidden;text-align: left;background-color: #f0f8ff;}#sk-container-id-6 div.sk-toggleable__content pre {margin: 0.2em;color: black;border-radius: 0.25em;background-color: #f0f8ff;}#sk-container-id-6 input.sk-toggleable__control:checked~div.sk-toggleable__content {max-height: 200px;max-width: 100%;overflow: auto;}#sk-container-id-6 input.sk-toggleable__control:checked~label.sk-toggleable__label-arrow:before {content: \"▾\";}#sk-container-id-6 div.sk-estimator input.sk-toggleable__control:checked~label.sk-toggleable__label {background-color: #d4ebff;}#sk-container-id-6 div.sk-label input.sk-toggleable__control:checked~label.sk-toggleable__label {background-color: #d4ebff;}#sk-container-id-6 input.sk-hidden--visually {border: 0;clip: rect(1px 1px 1px 1px);clip: rect(1px, 1px, 1px, 1px);height: 1px;margin: -1px;overflow: hidden;padding: 0;position: absolute;width: 1px;}#sk-container-id-6 div.sk-estimator {font-family: monospace;background-color: #f0f8ff;border: 1px dotted black;border-radius: 0.25em;box-sizing: border-box;margin-bottom: 0.5em;}#sk-container-id-6 div.sk-estimator:hover {background-color: #d4ebff;}#sk-container-id-6 div.sk-parallel-item::after {content: \"\";width: 100%;border-bottom: 1px solid gray;flex-grow: 1;}#sk-container-id-6 div.sk-label:hover label.sk-toggleable__label {background-color: #d4ebff;}#sk-container-id-6 div.sk-serial::before {content: \"\";position: absolute;border-left: 1px solid gray;box-sizing: border-box;top: 0;bottom: 0;left: 50%;z-index: 0;}#sk-container-id-6 div.sk-serial {display: flex;flex-direction: column;align-items: center;background-color: white;padding-right: 0.2em;padding-left: 0.2em;position: relative;}#sk-container-id-6 div.sk-item {position: relative;z-index: 1;}#sk-container-id-6 div.sk-parallel {display: flex;align-items: stretch;justify-content: center;background-color: white;position: relative;}#sk-container-id-6 div.sk-item::before, #sk-container-id-6 div.sk-parallel-item::before {content: \"\";position: absolute;border-left: 1px solid gray;box-sizing: border-box;top: 0;bottom: 0;left: 50%;z-index: -1;}#sk-container-id-6 div.sk-parallel-item {display: flex;flex-direction: column;z-index: 1;position: relative;background-color: white;}#sk-container-id-6 div.sk-parallel-item:first-child::after {align-self: flex-end;width: 50%;}#sk-container-id-6 div.sk-parallel-item:last-child::after {align-self: flex-start;width: 50%;}#sk-container-id-6 div.sk-parallel-item:only-child::after {width: 0;}#sk-container-id-6 div.sk-dashed-wrapped {border: 1px dashed gray;margin: 0 0.4em 0.5em 0.4em;box-sizing: border-box;padding-bottom: 0.4em;background-color: white;}#sk-container-id-6 div.sk-label label {font-family: monospace;font-weight: bold;display: inline-block;line-height: 1.2em;}#sk-container-id-6 div.sk-label-container {text-align: center;}#sk-container-id-6 div.sk-container {/* jupyter's `normalize.less` sets `[hidden] { display: none; }` but bootstrap.min.css set `[hidden] { display: none !important; }` so we also need the `!important` here to be able to override the default hidden behavior on the sphinx rendered scikit-learn.org. See: https://github.com/scikit-learn/scikit-learn/issues/21755 */display: inline-block !important;position: relative;}#sk-container-id-6 div.sk-text-repr-fallback {display: none;}</style><div id=\"sk-container-id-6\" class=\"sk-top-container\"><div class=\"sk-text-repr-fallback\"><pre>GradientBoostingRegressor(learning_rate=0.2, max_depth=5, n_estimators=1000,\n",
       "                          random_state=50)</pre><b>In a Jupyter environment, please rerun this cell to show the HTML representation or trust the notebook. <br />On GitHub, the HTML representation is unable to render, please try loading this page with nbviewer.org.</b></div><div class=\"sk-container\" hidden><div class=\"sk-item\"><div class=\"sk-estimator sk-toggleable\"><input class=\"sk-toggleable__control sk-hidden--visually\" id=\"sk-estimator-id-12\" type=\"checkbox\" checked><label for=\"sk-estimator-id-12\" class=\"sk-toggleable__label sk-toggleable__label-arrow\">GradientBoostingRegressor</label><div class=\"sk-toggleable__content\"><pre>GradientBoostingRegressor(learning_rate=0.2, max_depth=5, n_estimators=1000,\n",
       "                          random_state=50)</pre></div></div></div></div></div>"
      ],
      "text/plain": [
       "GradientBoostingRegressor(learning_rate=0.2, max_depth=5, n_estimators=1000,\n",
       "                          random_state=50)"
      ]
     },
     "execution_count": 41,
     "metadata": {},
     "output_type": "execute_result"
    }
   ],
   "source": [
    "# Gradient Boosting Regressor model\n",
    "gbrfinal = GradientBoostingRegressor(n_estimators=1000, learning_rate=0.2, max_depth=5, random_state=50)\n",
    "gbrfinal.fit(x_train, y_train)"
   ]
  },
  {
   "cell_type": "code",
   "execution_count": 42,
   "id": "FahltLRuL41s",
   "metadata": {
    "id": "FahltLRuL41s"
   },
   "outputs": [
    {
     "data": {
      "text/plain": [
       "0.8362456590954112"
      ]
     },
     "execution_count": 42,
     "metadata": {},
     "output_type": "execute_result"
    }
   ],
   "source": [
    "# Check the R2-test score\n",
    "gbrfinal.score(x_val, y_val)"
   ]
  },
  {
   "cell_type": "code",
   "execution_count": 43,
   "id": "YG9_2UrwL3tI",
   "metadata": {
    "id": "YG9_2UrwL3tI"
   },
   "outputs": [],
   "source": [
    "# Cross-validation 5-fold\n",
    "gbrscores = cross_val_score(gbrfinal, x_train, y_train, cv=5, n_jobs = -1)"
   ]
  },
  {
   "cell_type": "code",
   "execution_count": 44,
   "id": "YoR9sBHlLzlF",
   "metadata": {
    "id": "YoR9sBHlLzlF"
   },
   "outputs": [
    {
     "data": {
      "text/plain": [
       "0.7231415420735471"
      ]
     },
     "execution_count": 44,
     "metadata": {},
     "output_type": "execute_result"
    }
   ],
   "source": [
    "# Cross validated mean score\n",
    "gbrscores.mean()"
   ]
  },
  {
   "cell_type": "code",
   "execution_count": 45,
   "id": "-WYUcxiTLsDw",
   "metadata": {
    "id": "-WYUcxiTLsDw"
   },
   "outputs": [],
   "source": [
    "y_pred_gbrfinal = gbrfinal.predict(x_val)"
   ]
  },
  {
   "cell_type": "code",
   "execution_count": 46,
   "id": "YYDwYzrxMDm8",
   "metadata": {
    "id": "YYDwYzrxMDm8"
   },
   "outputs": [
    {
     "name": "stdout",
     "output_type": "stream",
     "text": [
      "Mean Squared Error (MSE): 665684000104589.50\n",
      "Absolute error (MAE): 8592051.78\n",
      "Root Mean Squared Error: 25800852.70\n",
      "R2 Score: 0.84\n"
     ]
    }
   ],
   "source": [
    "# Calculate the MSE, MAE, RMSE and R2\n",
    "mse = mean_squared_error(y_val, y_pred_gbrfinal)\n",
    "print(\"Mean Squared Error (MSE): {:.2f}\".format(mse))\n",
    "mae = mean_absolute_error(y_val, y_pred_gbrfinal)\n",
    "print(\"Absolute error (MAE): {:.2f}\".format(mae))\n",
    "rmse = np.sqrt(mean_squared_error(y_val, y_pred_gbrfinal))\n",
    "print(\"Root Mean Squared Error: {:.2f}\".format(rmse))\n",
    "r2 = r2_score(y_val, y_pred_gbrfinal)\n",
    "print(\"R2 Score: {:.2f}\".format(r2))"
   ]
  },
  {
   "cell_type": "markdown",
   "id": "4rDZvTjM1c5s",
   "metadata": {
    "id": "4rDZvTjM1c5s"
   },
   "source": [
    "### Gradient Boost Comparison\n"
   ]
  },
  {
   "cell_type": "code",
   "execution_count": 47,
   "id": "fd36f081",
   "metadata": {
    "id": "fd36f081"
   },
   "outputs": [
    {
     "data": {
      "text/html": [
       "<style>#sk-container-id-7 {color: black;background-color: white;}#sk-container-id-7 pre{padding: 0;}#sk-container-id-7 div.sk-toggleable {background-color: white;}#sk-container-id-7 label.sk-toggleable__label {cursor: pointer;display: block;width: 100%;margin-bottom: 0;padding: 0.3em;box-sizing: border-box;text-align: center;}#sk-container-id-7 label.sk-toggleable__label-arrow:before {content: \"▸\";float: left;margin-right: 0.25em;color: #696969;}#sk-container-id-7 label.sk-toggleable__label-arrow:hover:before {color: black;}#sk-container-id-7 div.sk-estimator:hover label.sk-toggleable__label-arrow:before {color: black;}#sk-container-id-7 div.sk-toggleable__content {max-height: 0;max-width: 0;overflow: hidden;text-align: left;background-color: #f0f8ff;}#sk-container-id-7 div.sk-toggleable__content pre {margin: 0.2em;color: black;border-radius: 0.25em;background-color: #f0f8ff;}#sk-container-id-7 input.sk-toggleable__control:checked~div.sk-toggleable__content {max-height: 200px;max-width: 100%;overflow: auto;}#sk-container-id-7 input.sk-toggleable__control:checked~label.sk-toggleable__label-arrow:before {content: \"▾\";}#sk-container-id-7 div.sk-estimator input.sk-toggleable__control:checked~label.sk-toggleable__label {background-color: #d4ebff;}#sk-container-id-7 div.sk-label input.sk-toggleable__control:checked~label.sk-toggleable__label {background-color: #d4ebff;}#sk-container-id-7 input.sk-hidden--visually {border: 0;clip: rect(1px 1px 1px 1px);clip: rect(1px, 1px, 1px, 1px);height: 1px;margin: -1px;overflow: hidden;padding: 0;position: absolute;width: 1px;}#sk-container-id-7 div.sk-estimator {font-family: monospace;background-color: #f0f8ff;border: 1px dotted black;border-radius: 0.25em;box-sizing: border-box;margin-bottom: 0.5em;}#sk-container-id-7 div.sk-estimator:hover {background-color: #d4ebff;}#sk-container-id-7 div.sk-parallel-item::after {content: \"\";width: 100%;border-bottom: 1px solid gray;flex-grow: 1;}#sk-container-id-7 div.sk-label:hover label.sk-toggleable__label {background-color: #d4ebff;}#sk-container-id-7 div.sk-serial::before {content: \"\";position: absolute;border-left: 1px solid gray;box-sizing: border-box;top: 0;bottom: 0;left: 50%;z-index: 0;}#sk-container-id-7 div.sk-serial {display: flex;flex-direction: column;align-items: center;background-color: white;padding-right: 0.2em;padding-left: 0.2em;position: relative;}#sk-container-id-7 div.sk-item {position: relative;z-index: 1;}#sk-container-id-7 div.sk-parallel {display: flex;align-items: stretch;justify-content: center;background-color: white;position: relative;}#sk-container-id-7 div.sk-item::before, #sk-container-id-7 div.sk-parallel-item::before {content: \"\";position: absolute;border-left: 1px solid gray;box-sizing: border-box;top: 0;bottom: 0;left: 50%;z-index: -1;}#sk-container-id-7 div.sk-parallel-item {display: flex;flex-direction: column;z-index: 1;position: relative;background-color: white;}#sk-container-id-7 div.sk-parallel-item:first-child::after {align-self: flex-end;width: 50%;}#sk-container-id-7 div.sk-parallel-item:last-child::after {align-self: flex-start;width: 50%;}#sk-container-id-7 div.sk-parallel-item:only-child::after {width: 0;}#sk-container-id-7 div.sk-dashed-wrapped {border: 1px dashed gray;margin: 0 0.4em 0.5em 0.4em;box-sizing: border-box;padding-bottom: 0.4em;background-color: white;}#sk-container-id-7 div.sk-label label {font-family: monospace;font-weight: bold;display: inline-block;line-height: 1.2em;}#sk-container-id-7 div.sk-label-container {text-align: center;}#sk-container-id-7 div.sk-container {/* jupyter's `normalize.less` sets `[hidden] { display: none; }` but bootstrap.min.css set `[hidden] { display: none !important; }` so we also need the `!important` here to be able to override the default hidden behavior on the sphinx rendered scikit-learn.org. See: https://github.com/scikit-learn/scikit-learn/issues/21755 */display: inline-block !important;position: relative;}#sk-container-id-7 div.sk-text-repr-fallback {display: none;}</style><div id=\"sk-container-id-7\" class=\"sk-top-container\"><div class=\"sk-text-repr-fallback\"><pre>GradientBoostingRegressor(learning_rate=0.2, max_depth=5, n_estimators=20,\n",
       "                          random_state=50)</pre><b>In a Jupyter environment, please rerun this cell to show the HTML representation or trust the notebook. <br />On GitHub, the HTML representation is unable to render, please try loading this page with nbviewer.org.</b></div><div class=\"sk-container\" hidden><div class=\"sk-item\"><div class=\"sk-estimator sk-toggleable\"><input class=\"sk-toggleable__control sk-hidden--visually\" id=\"sk-estimator-id-13\" type=\"checkbox\" checked><label for=\"sk-estimator-id-13\" class=\"sk-toggleable__label sk-toggleable__label-arrow\">GradientBoostingRegressor</label><div class=\"sk-toggleable__content\"><pre>GradientBoostingRegressor(learning_rate=0.2, max_depth=5, n_estimators=20,\n",
       "                          random_state=50)</pre></div></div></div></div></div>"
      ],
      "text/plain": [
       "GradientBoostingRegressor(learning_rate=0.2, max_depth=5, n_estimators=20,\n",
       "                          random_state=50)"
      ]
     },
     "execution_count": 47,
     "metadata": {},
     "output_type": "execute_result"
    }
   ],
   "source": [
    "# Gradient Boosting Regressor model\n",
    "testgbr = GradientBoostingRegressor(n_estimators= 20, learning_rate=0.2, max_depth=5, random_state=50)\n",
    "\n",
    "from sklearn.model_selection import cross_val_score\n",
    "testscores = cross_val_score(testgbr, x_train, y_train, cv=5) #n_estimators= 20, learning_rate=0.1, max_depth=5, random_state=50\n",
    "\n",
    "testgbr.fit(x_train, y_train)\n"
   ]
  },
  {
   "cell_type": "code",
   "execution_count": 48,
   "id": "5607d1a5",
   "metadata": {
    "id": "5607d1a5",
    "outputId": "63728bc8-f938-48fb-f0a4-61f285459a6a"
   },
   "outputs": [
    {
     "data": {
      "text/plain": [
       "0.5437608702602479"
      ]
     },
     "execution_count": 48,
     "metadata": {},
     "output_type": "execute_result"
    }
   ],
   "source": [
    "test_score1 = testgbr.score(x_val, y_val) #n_estimators= 20, learning_rate=0.2, max_depth=5, random_state=50\n",
    "test_score1 "
   ]
  },
  {
   "cell_type": "code",
   "execution_count": 49,
   "id": "ec31bd0c",
   "metadata": {
    "id": "ec31bd0c",
    "outputId": "9b016750-0b35-4178-d645-cc38195140ae"
   },
   "outputs": [
    {
     "data": {
      "text/plain": [
       "0.4946490074743771"
      ]
     },
     "execution_count": 49,
     "metadata": {},
     "output_type": "execute_result"
    }
   ],
   "source": [
    "# Cross-validated 5-fold mean\n",
    "testscores.mean()"
   ]
  },
  {
   "cell_type": "markdown",
   "id": "6974ee5a",
   "metadata": {},
   "source": [
    "### Conclusion\n",
    "An essential step in our process is model evaluation, which helps us better understand the performance of our models. By using different metrics for our evaluation, we aspire to make the most comprehensive choice based on numbers. \n",
    "Since our target variable is continuous, we have used regression models, namely Linear Regression, Decision Tree Regressor, Gradient Boosting Regressor, and the Random Forest Regressor from the scikit-learn library.\n",
    "\n",
    "For the interpretation of the scores, we took several measures to support the model performance. The R2-score is the basis for the performance measure. It measures proportion of variance that is predictable by using the independent variables and showcases the fit with the dataset. Although this measurement method is most commonly used and preferred, it is not sufficient in the evaluation of the model’s performance. Whereas R2 is a number between 0 and 1 and a bigger number indicates a better explanation of the target variable by our models, a smaller of MSE/RMSE and MAE indicate the better performance of a model. Therefore, the Mean Squared Error is used to measure the average squared differences between the values predicted by the model and the actual data values. To make these numbers more interpretable, the Root Mean Squared Error (RMSE) is used to convert the values into the same unit as the target variable (USD). Moreover, Mean Absolute Error (MAE) is included to measure the absolute differences instead of squared differences alone (Chai & Draxler, 2014; Karunasingha, 2022).\n",
    "\n",
    "Using these metrics to evaluate our models, we conclude that our best performing model is the Gradient Boosting Regressor model. It distributes the highest R2, 0.84, while showing lower values in MSE/RMSE and MAE, 25800852.70 (RMSE), in comparison to other models."
   ]
  },
  {
   "cell_type": "markdown",
   "id": "69d773f6",
   "metadata": {},
   "source": [
    "### Bibliography\n",
    "- Chai, T., & Draxler, R. R. (2014). Root mean square error (RMSE) or mean absolute error (MAE)?–Arguments against avoiding RMSE in the literature. Geoscientific model development, 7(3), 1247-1250.\n",
    "- Karunasingha, D. S. K. (2022). Root mean square error or mean absolute error? Use their ratio as well. Information Sciences, 585, 609-629.\n",
    "- World Bank Open Data. (n.d.). GDP (current US$) [Data set]. World Bank Open Data. https://data.worldbank.org/indicator/NY.GDP.MKTP.CD"
   ]
  },
  {
   "cell_type": "code",
   "execution_count": null,
   "id": "610c3c9a",
   "metadata": {},
   "outputs": [],
   "source": []
  }
 ],
 "metadata": {
  "colab": {
   "provenance": []
  },
  "kernelspec": {
   "display_name": "Python 3 (ipykernel)",
   "language": "python",
   "name": "python3"
  },
  "language_info": {
   "codemirror_mode": {
    "name": "ipython",
    "version": 3
   },
   "file_extension": ".py",
   "mimetype": "text/x-python",
   "name": "python",
   "nbconvert_exporter": "python",
   "pygments_lexer": "ipython3",
   "version": "3.9.13"
  }
 },
 "nbformat": 4,
 "nbformat_minor": 5
}
